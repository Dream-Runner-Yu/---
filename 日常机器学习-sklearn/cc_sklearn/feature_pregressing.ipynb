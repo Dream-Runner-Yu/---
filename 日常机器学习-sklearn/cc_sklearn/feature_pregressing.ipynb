{
 "cells": [
  {
   "cell_type": "code",
   "execution_count": 5,
   "metadata": {
    "collapsed": true
   },
   "outputs": [],
   "source": [
    "from sklearn.preprocessing import MinMaxScaler\n",
    "import pandas as pd\n",
    "from pandas import DataFrame as df\n",
    "\n",
    "data = [[-1,2], [-0.5,6], [0,10], [1,18]]\n"
   ]
  },
  {
   "cell_type": "code",
   "execution_count": 6,
   "outputs": [
    {
     "data": {
      "text/plain": "     0   1\n0 -1.0   2\n1 -0.5   6\n2  0.0  10\n3  1.0  18",
      "text/html": "<div>\n<style scoped>\n    .dataframe tbody tr th:only-of-type {\n        vertical-align: middle;\n    }\n\n    .dataframe tbody tr th {\n        vertical-align: top;\n    }\n\n    .dataframe thead th {\n        text-align: right;\n    }\n</style>\n<table border=\"1\" class=\"dataframe\">\n  <thead>\n    <tr style=\"text-align: right;\">\n      <th></th>\n      <th>0</th>\n      <th>1</th>\n    </tr>\n  </thead>\n  <tbody>\n    <tr>\n      <th>0</th>\n      <td>-1.0</td>\n      <td>2</td>\n    </tr>\n    <tr>\n      <th>1</th>\n      <td>-0.5</td>\n      <td>6</td>\n    </tr>\n    <tr>\n      <th>2</th>\n      <td>0.0</td>\n      <td>10</td>\n    </tr>\n    <tr>\n      <th>3</th>\n      <td>1.0</td>\n      <td>18</td>\n    </tr>\n  </tbody>\n</table>\n</div>"
     },
     "execution_count": 6,
     "metadata": {},
     "output_type": "execute_result"
    }
   ],
   "source": [
    "df(data)"
   ],
   "metadata": {
    "collapsed": false,
    "pycharm": {
     "name": "#%%\n"
    }
   }
  },
  {
   "cell_type": "code",
   "execution_count": 9,
   "outputs": [],
   "source": [
    "scaler = MinMaxScaler()\n",
    "scaler = scaler.fit(data)\n",
    "result = scaler.transform(data)"
   ],
   "metadata": {
    "collapsed": false,
    "pycharm": {
     "name": "#%%\n"
    }
   }
  },
  {
   "cell_type": "code",
   "execution_count": 10,
   "outputs": [
    {
     "data": {
      "text/plain": "array([[0.  , 0.  ],\n       [0.25, 0.25],\n       [0.5 , 0.5 ],\n       [1.  , 1.  ]])"
     },
     "execution_count": 10,
     "metadata": {},
     "output_type": "execute_result"
    }
   ],
   "source": [
    "result"
   ],
   "metadata": {
    "collapsed": false,
    "pycharm": {
     "name": "#%%\n"
    }
   }
  },
  {
   "cell_type": "code",
   "execution_count": 11,
   "outputs": [
    {
     "data": {
      "text/plain": "array([[-1. ,  2. ],\n       [-0.5,  6. ],\n       [ 0. , 10. ],\n       [ 1. , 18. ]])"
     },
     "execution_count": 11,
     "metadata": {},
     "output_type": "execute_result"
    }
   ],
   "source": [
    "scaler.inverse_transform(result)\n"
   ],
   "metadata": {
    "collapsed": false,
    "pycharm": {
     "name": "#%%\n"
    }
   }
  },
  {
   "cell_type": "code",
   "execution_count": 12,
   "outputs": [
    {
     "data": {
      "text/plain": "array([[ 5.  ,  5.  ],\n       [ 6.25,  6.25],\n       [ 7.5 ,  7.5 ],\n       [10.  , 10.  ]])"
     },
     "execution_count": 12,
     "metadata": {},
     "output_type": "execute_result"
    }
   ],
   "source": [
    "# 调用 MinMaxScaler ，将数据归一化到 [0,1] 之外的区间\n",
    "scaler = MinMaxScaler(feature_range=[5,10])\n",
    "result = scaler.fit_transform(data)\n",
    "result"
   ],
   "metadata": {
    "collapsed": false,
    "pycharm": {
     "name": "#%%\n"
    }
   }
  },
  {
   "cell_type": "code",
   "execution_count": 17,
   "outputs": [
    {
     "data": {
      "text/plain": "array([-0.125,  9.   ])"
     },
     "execution_count": 17,
     "metadata": {},
     "output_type": "execute_result"
    }
   ],
   "source": [
    "from sklearn.preprocessing import StandardScaler\n",
    "data = [[-1,2], [-0.5,6], [0,10], [1,18]]\n",
    "scaler = StandardScaler()\n",
    "scaler.fit(data)\n",
    "scaler.mean_\n"
   ],
   "metadata": {
    "collapsed": false,
    "pycharm": {
     "name": "#%%\n"
    }
   }
  },
  {
   "cell_type": "code",
   "execution_count": 18,
   "outputs": [
    {
     "data": {
      "text/plain": "array([ 0.546875, 35.      ])"
     },
     "execution_count": 18,
     "metadata": {},
     "output_type": "execute_result"
    }
   ],
   "source": [
    "scaler.var_"
   ],
   "metadata": {
    "collapsed": false,
    "pycharm": {
     "name": "#%%\n"
    }
   }
  },
  {
   "cell_type": "code",
   "execution_count": 19,
   "outputs": [],
   "source": [
    "x_std = scaler.transform(data)\n",
    "\n"
   ],
   "metadata": {
    "collapsed": false,
    "pycharm": {
     "name": "#%%\n"
    }
   }
  },
  {
   "cell_type": "code",
   "execution_count": 20,
   "outputs": [
    {
     "data": {
      "text/plain": "0.0"
     },
     "execution_count": 20,
     "metadata": {},
     "output_type": "execute_result"
    }
   ],
   "source": [
    "x_std.mean()\n"
   ],
   "metadata": {
    "collapsed": false,
    "pycharm": {
     "name": "#%%\n"
    }
   }
  },
  {
   "cell_type": "code",
   "execution_count": 21,
   "outputs": [
    {
     "data": {
      "text/plain": "1.0"
     },
     "execution_count": 21,
     "metadata": {},
     "output_type": "execute_result"
    }
   ],
   "source": [
    "x_std.std()"
   ],
   "metadata": {
    "collapsed": false,
    "pycharm": {
     "name": "#%%\n"
    }
   }
  },
  {
   "cell_type": "code",
   "execution_count": 22,
   "outputs": [
    {
     "data": {
      "text/plain": "array([[-1.18321596, -1.18321596],\n       [-0.50709255, -0.50709255],\n       [ 0.16903085,  0.16903085],\n       [ 1.52127766,  1.52127766]])"
     },
     "execution_count": 22,
     "metadata": {},
     "output_type": "execute_result"
    }
   ],
   "source": [
    "x_std\n"
   ],
   "metadata": {
    "collapsed": false,
    "pycharm": {
     "name": "#%%\n"
    }
   }
  },
  {
   "cell_type": "code",
   "execution_count": 25,
   "outputs": [
    {
     "data": {
      "text/plain": "array([[-1. ,  2. ],\n       [-0.5,  6. ],\n       [ 0. , 10. ],\n       [ 1. , 18. ]])"
     },
     "execution_count": 25,
     "metadata": {},
     "output_type": "execute_result"
    }
   ],
   "source": [
    "data = [[-1,2], [-0.5,6], [0,10], [1,18]]\n",
    "\n",
    "x_std = scaler.transform(data)\n",
    "scaler.inverse_transform(x_std)"
   ],
   "metadata": {
    "collapsed": false,
    "pycharm": {
     "name": "#%%\n"
    }
   }
  },
  {
   "cell_type": "code",
   "execution_count": 26,
   "outputs": [],
   "source": [
    "# 归一化  对异常值敏感\n",
    "# 标准化"
   ],
   "metadata": {
    "collapsed": false,
    "pycharm": {
     "name": "#%%\n"
    }
   }
  },
  {
   "cell_type": "code",
   "execution_count": 28,
   "outputs": [
    {
     "data": {
      "text/plain": "    Age     Sex Embarked Survived\n0  22.0    male        S       No\n1  38.0  female        C      Yes\n2  26.0  female        S      Yes\n3  35.0  female        S      Yes\n4  35.0    male        S       No",
      "text/html": "<div>\n<style scoped>\n    .dataframe tbody tr th:only-of-type {\n        vertical-align: middle;\n    }\n\n    .dataframe tbody tr th {\n        vertical-align: top;\n    }\n\n    .dataframe thead th {\n        text-align: right;\n    }\n</style>\n<table border=\"1\" class=\"dataframe\">\n  <thead>\n    <tr style=\"text-align: right;\">\n      <th></th>\n      <th>Age</th>\n      <th>Sex</th>\n      <th>Embarked</th>\n      <th>Survived</th>\n    </tr>\n  </thead>\n  <tbody>\n    <tr>\n      <th>0</th>\n      <td>22.0</td>\n      <td>male</td>\n      <td>S</td>\n      <td>No</td>\n    </tr>\n    <tr>\n      <th>1</th>\n      <td>38.0</td>\n      <td>female</td>\n      <td>C</td>\n      <td>Yes</td>\n    </tr>\n    <tr>\n      <th>2</th>\n      <td>26.0</td>\n      <td>female</td>\n      <td>S</td>\n      <td>Yes</td>\n    </tr>\n    <tr>\n      <th>3</th>\n      <td>35.0</td>\n      <td>female</td>\n      <td>S</td>\n      <td>Yes</td>\n    </tr>\n    <tr>\n      <th>4</th>\n      <td>35.0</td>\n      <td>male</td>\n      <td>S</td>\n      <td>No</td>\n    </tr>\n  </tbody>\n</table>\n</div>"
     },
     "execution_count": 28,
     "metadata": {},
     "output_type": "execute_result"
    }
   ],
   "source": [
    "import pandas as pd\n",
    "data = pd.read_csv(r\"data/Narrativedata.csv\", index_col=0)\n",
    "data.head()"
   ],
   "metadata": {
    "collapsed": false,
    "pycharm": {
     "name": "#%%\n"
    }
   }
  },
  {
   "cell_type": "code",
   "execution_count": 29,
   "outputs": [
    {
     "name": "stdout",
     "output_type": "stream",
     "text": [
      "<class 'pandas.core.frame.DataFrame'>\n",
      "Int64Index: 891 entries, 0 to 890\n",
      "Data columns (total 4 columns):\n",
      " #   Column    Non-Null Count  Dtype  \n",
      "---  ------    --------------  -----  \n",
      " 0   Age       714 non-null    float64\n",
      " 1   Sex       891 non-null    object \n",
      " 2   Embarked  889 non-null    object \n",
      " 3   Survived  891 non-null    object \n",
      "dtypes: float64(1), object(3)\n",
      "memory usage: 34.8+ KB\n"
     ]
    }
   ],
   "source": [
    "# from sklearn import\n",
    "data.info()\n"
   ],
   "metadata": {
    "collapsed": false,
    "pycharm": {
     "name": "#%%\n"
    }
   }
  },
  {
   "cell_type": "code",
   "execution_count": 34,
   "outputs": [],
   "source": [
    "Age = data.loc[:,'Age'].values.reshape(-1,1)\n",
    "# 输入为2维"
   ],
   "metadata": {
    "collapsed": false,
    "pycharm": {
     "name": "#%%\n"
    }
   }
  },
  {
   "cell_type": "code",
   "execution_count": 63,
   "outputs": [],
   "source": [
    "# Age\n",
    "from sklearn.impute import SimpleImputer\n",
    "imp_mean = SimpleImputer(strategy='mean')\n",
    "imp_median = SimpleImputer(strategy='median')\n",
    "imp_0 = SimpleImputer(strategy='constant', fill_value=0)\n",
    "# imp_0 = imp_0.fit(Age)"
   ],
   "metadata": {
    "collapsed": false,
    "pycharm": {
     "name": "#%%\n"
    }
   }
  },
  {
   "cell_type": "code",
   "execution_count": 64,
   "outputs": [],
   "source": [
    "imp_mean = imp_mean.fit_transform(Age)\n",
    "imp_median = imp_median.fit_transform(Age)\n",
    "imp_0 = imp_0.fit_transform(Age)"
   ],
   "metadata": {
    "collapsed": false,
    "pycharm": {
     "name": "#%%\n"
    }
   }
  },
  {
   "cell_type": "code",
   "execution_count": 65,
   "outputs": [
    {
     "data": {
      "text/plain": "array([[22.        ],\n       [38.        ],\n       [26.        ],\n       [35.        ],\n       [35.        ],\n       [29.69911765],\n       [54.        ],\n       [ 2.        ],\n       [27.        ],\n       [14.        ],\n       [ 4.        ],\n       [58.        ],\n       [20.        ],\n       [39.        ],\n       [14.        ],\n       [55.        ],\n       [ 2.        ],\n       [29.69911765],\n       [31.        ],\n       [29.69911765]])"
     },
     "execution_count": 65,
     "metadata": {},
     "output_type": "execute_result"
    }
   ],
   "source": [
    "imp_mean[:20]"
   ],
   "metadata": {
    "collapsed": false,
    "pycharm": {
     "name": "#%%\n"
    }
   }
  },
  {
   "cell_type": "code",
   "execution_count": 66,
   "outputs": [
    {
     "data": {
      "text/plain": "array([[22.],\n       [38.],\n       [26.],\n       [35.],\n       [35.],\n       [28.],\n       [54.],\n       [ 2.],\n       [27.],\n       [14.],\n       [ 4.],\n       [58.],\n       [20.],\n       [39.],\n       [14.],\n       [55.],\n       [ 2.],\n       [28.],\n       [31.],\n       [28.]])"
     },
     "execution_count": 66,
     "metadata": {},
     "output_type": "execute_result"
    }
   ],
   "source": [
    "imp_median[:20]"
   ],
   "metadata": {
    "collapsed": false,
    "pycharm": {
     "name": "#%%\n"
    }
   }
  },
  {
   "cell_type": "code",
   "execution_count": 68,
   "outputs": [],
   "source": [
    "data.loc[:,\"Age\"] = imp_median"
   ],
   "metadata": {
    "collapsed": false,
    "pycharm": {
     "name": "#%%\n"
    }
   }
  },
  {
   "cell_type": "code",
   "execution_count": 69,
   "outputs": [
    {
     "name": "stdout",
     "output_type": "stream",
     "text": [
      "<class 'pandas.core.frame.DataFrame'>\n",
      "Int64Index: 891 entries, 0 to 890\n",
      "Data columns (total 4 columns):\n",
      " #   Column    Non-Null Count  Dtype  \n",
      "---  ------    --------------  -----  \n",
      " 0   Age       891 non-null    float64\n",
      " 1   Sex       891 non-null    object \n",
      " 2   Embarked  889 non-null    object \n",
      " 3   Survived  891 non-null    object \n",
      "dtypes: float64(1), object(3)\n",
      "memory usage: 34.8+ KB\n"
     ]
    }
   ],
   "source": [
    "data.info()\n"
   ],
   "metadata": {
    "collapsed": false,
    "pycharm": {
     "name": "#%%\n"
    }
   }
  },
  {
   "cell_type": "code",
   "execution_count": 72,
   "outputs": [
    {
     "name": "stdout",
     "output_type": "stream",
     "text": [
      "<class 'pandas.core.frame.DataFrame'>\n",
      "Int64Index: 891 entries, 0 to 890\n",
      "Data columns (total 5 columns):\n",
      " #   Column    Non-Null Count  Dtype  \n",
      "---  ------    --------------  -----  \n",
      " 0   Age       891 non-null    float64\n",
      " 1   Sex       891 non-null    object \n",
      " 2   Embarked  891 non-null    object \n",
      " 3   Survived  891 non-null    object \n",
      " 4   Embark    891 non-null    object \n",
      "dtypes: float64(1), object(4)\n",
      "memory usage: 41.8+ KB\n"
     ]
    }
   ],
   "source": [
    "Embarked = data.loc[:, \"Embarked\"].values.reshape(-1,1)\n",
    "imp_mode = SimpleImputer(strategy = \"most_frequent\")\n",
    "data.loc[:, \"Embarked\"] = imp_mode.fit_transform(Embarked)\n",
    "data.info()"
   ],
   "metadata": {
    "collapsed": false,
    "pycharm": {
     "name": "#%%\n"
    }
   }
  },
  {
   "cell_type": "code",
   "execution_count": 73,
   "outputs": [],
   "source": [
    "data.dropna(axis=0, inplace=True)"
   ],
   "metadata": {
    "collapsed": false,
    "pycharm": {
     "name": "#%%\n"
    }
   }
  },
  {
   "cell_type": "code",
   "execution_count": 74,
   "outputs": [
    {
     "data": {
      "text/plain": "    Age     Sex Embarked Survived Embark\n0  22.0    male        S       No      S\n1  38.0  female        C      Yes      C\n2  26.0  female        S      Yes      S\n3  35.0  female        S      Yes      S\n4  35.0    male        S       No      S",
      "text/html": "<div>\n<style scoped>\n    .dataframe tbody tr th:only-of-type {\n        vertical-align: middle;\n    }\n\n    .dataframe tbody tr th {\n        vertical-align: top;\n    }\n\n    .dataframe thead th {\n        text-align: right;\n    }\n</style>\n<table border=\"1\" class=\"dataframe\">\n  <thead>\n    <tr style=\"text-align: right;\">\n      <th></th>\n      <th>Age</th>\n      <th>Sex</th>\n      <th>Embarked</th>\n      <th>Survived</th>\n      <th>Embark</th>\n    </tr>\n  </thead>\n  <tbody>\n    <tr>\n      <th>0</th>\n      <td>22.0</td>\n      <td>male</td>\n      <td>S</td>\n      <td>No</td>\n      <td>S</td>\n    </tr>\n    <tr>\n      <th>1</th>\n      <td>38.0</td>\n      <td>female</td>\n      <td>C</td>\n      <td>Yes</td>\n      <td>C</td>\n    </tr>\n    <tr>\n      <th>2</th>\n      <td>26.0</td>\n      <td>female</td>\n      <td>S</td>\n      <td>Yes</td>\n      <td>S</td>\n    </tr>\n    <tr>\n      <th>3</th>\n      <td>35.0</td>\n      <td>female</td>\n      <td>S</td>\n      <td>Yes</td>\n      <td>S</td>\n    </tr>\n    <tr>\n      <th>4</th>\n      <td>35.0</td>\n      <td>male</td>\n      <td>S</td>\n      <td>No</td>\n      <td>S</td>\n    </tr>\n  </tbody>\n</table>\n</div>"
     },
     "execution_count": 74,
     "metadata": {},
     "output_type": "execute_result"
    }
   ],
   "source": [
    "data.head()\n"
   ],
   "metadata": {
    "collapsed": false,
    "pycharm": {
     "name": "#%%\n"
    }
   }
  },
  {
   "cell_type": "code",
   "execution_count": 94,
   "outputs": [],
   "source": [
    "from sklearn.preprocessing import LabelEncoder,OrdinalEncoder\n",
    "\n",
    "y = data.iloc[:,-2]\n",
    "le = LabelEncoder()\n",
    "le = le.fit(y)\n",
    "label = le.transform(y)\n",
    "# label"
   ],
   "metadata": {
    "collapsed": false,
    "pycharm": {
     "name": "#%%\n"
    }
   }
  },
  {
   "cell_type": "code",
   "execution_count": 93,
   "outputs": [
    {
     "data": {
      "text/plain": "array([0, 1, 2])"
     },
     "execution_count": 93,
     "metadata": {},
     "output_type": "execute_result"
    }
   ],
   "source": [
    "# data.loc[:,-1]\n",
    "# le.classes_"
   ],
   "metadata": {
    "collapsed": false,
    "pycharm": {
     "name": "#%%\n"
    }
   }
  },
  {
   "cell_type": "code",
   "execution_count": 96,
   "outputs": [],
   "source": [
    "# le.inverse_transform(label)"
   ],
   "metadata": {
    "collapsed": false,
    "pycharm": {
     "name": "#%%\n"
    }
   }
  },
  {
   "cell_type": "code",
   "execution_count": 95,
   "outputs": [],
   "source": [
    "data.iloc[:, -2] = label\n"
   ],
   "metadata": {
    "collapsed": false,
    "pycharm": {
     "name": "#%%\n"
    }
   }
  },
  {
   "cell_type": "code",
   "execution_count": 92,
   "outputs": [],
   "source": [
    "# data"
   ],
   "metadata": {
    "collapsed": false,
    "pycharm": {
     "name": "#%%\n"
    }
   }
  },
  {
   "cell_type": "code",
   "execution_count": 88,
   "outputs": [],
   "source": [
    "data_ = data.copy()\n",
    "data_.iloc[:, 1:-1] = OrdinalEncoder().fit_transform(data_.iloc[:, 1:-1])"
   ],
   "metadata": {
    "collapsed": false,
    "pycharm": {
     "name": "#%%\n"
    }
   }
  },
  {
   "cell_type": "code",
   "execution_count": 91,
   "outputs": [
    {
     "data": {
      "text/plain": "    Age  Sex  Embarked  Survived Embark\n0  22.0  1.0       2.0       0.0      S\n1  38.0  0.0       0.0       2.0      C\n2  26.0  0.0       2.0       2.0      S\n3  35.0  0.0       2.0       2.0      S\n4  35.0  1.0       2.0       0.0      S\n5  28.0  1.0       1.0       0.0      Q\n6  54.0  1.0       2.0       0.0      S\n7   2.0  1.0       2.0       0.0      S\n8  27.0  0.0       2.0       2.0      S\n9  14.0  0.0       0.0       2.0      C",
      "text/html": "<div>\n<style scoped>\n    .dataframe tbody tr th:only-of-type {\n        vertical-align: middle;\n    }\n\n    .dataframe tbody tr th {\n        vertical-align: top;\n    }\n\n    .dataframe thead th {\n        text-align: right;\n    }\n</style>\n<table border=\"1\" class=\"dataframe\">\n  <thead>\n    <tr style=\"text-align: right;\">\n      <th></th>\n      <th>Age</th>\n      <th>Sex</th>\n      <th>Embarked</th>\n      <th>Survived</th>\n      <th>Embark</th>\n    </tr>\n  </thead>\n  <tbody>\n    <tr>\n      <th>0</th>\n      <td>22.0</td>\n      <td>1.0</td>\n      <td>2.0</td>\n      <td>0.0</td>\n      <td>S</td>\n    </tr>\n    <tr>\n      <th>1</th>\n      <td>38.0</td>\n      <td>0.0</td>\n      <td>0.0</td>\n      <td>2.0</td>\n      <td>C</td>\n    </tr>\n    <tr>\n      <th>2</th>\n      <td>26.0</td>\n      <td>0.0</td>\n      <td>2.0</td>\n      <td>2.0</td>\n      <td>S</td>\n    </tr>\n    <tr>\n      <th>3</th>\n      <td>35.0</td>\n      <td>0.0</td>\n      <td>2.0</td>\n      <td>2.0</td>\n      <td>S</td>\n    </tr>\n    <tr>\n      <th>4</th>\n      <td>35.0</td>\n      <td>1.0</td>\n      <td>2.0</td>\n      <td>0.0</td>\n      <td>S</td>\n    </tr>\n    <tr>\n      <th>5</th>\n      <td>28.0</td>\n      <td>1.0</td>\n      <td>1.0</td>\n      <td>0.0</td>\n      <td>Q</td>\n    </tr>\n    <tr>\n      <th>6</th>\n      <td>54.0</td>\n      <td>1.0</td>\n      <td>2.0</td>\n      <td>0.0</td>\n      <td>S</td>\n    </tr>\n    <tr>\n      <th>7</th>\n      <td>2.0</td>\n      <td>1.0</td>\n      <td>2.0</td>\n      <td>0.0</td>\n      <td>S</td>\n    </tr>\n    <tr>\n      <th>8</th>\n      <td>27.0</td>\n      <td>0.0</td>\n      <td>2.0</td>\n      <td>2.0</td>\n      <td>S</td>\n    </tr>\n    <tr>\n      <th>9</th>\n      <td>14.0</td>\n      <td>0.0</td>\n      <td>0.0</td>\n      <td>2.0</td>\n      <td>C</td>\n    </tr>\n  </tbody>\n</table>\n</div>"
     },
     "execution_count": 91,
     "metadata": {},
     "output_type": "execute_result"
    }
   ],
   "source": [
    "data_.head(10)"
   ],
   "metadata": {
    "collapsed": false,
    "pycharm": {
     "name": "#%%\n"
    }
   }
  },
  {
   "cell_type": "code",
   "execution_count": 20,
   "outputs": [],
   "source": [
    "# one-hot 编码\n",
    "from sklearn.preprocessing import OneHotEncoder\n",
    "import pandas as pd\n",
    "\n",
    "data = pd.read_csv(r\"data/Narrativedata.csv\", index_col=0)\n",
    "\n",
    "X = data.iloc[:, 1:-1]\n",
    "enc = OneHotEncoder(categories='auto').fit(X)\n",
    "result = enc.transform(X).toarray()\n"
   ],
   "metadata": {
    "collapsed": false,
    "pycharm": {
     "name": "#%%\n"
    }
   }
  },
  {
   "cell_type": "code",
   "execution_count": 21,
   "outputs": [
    {
     "data": {
      "text/plain": "array([[0., 1., 0., 0., 1., 0.],\n       [1., 0., 1., 0., 0., 0.],\n       [1., 0., 0., 0., 1., 0.],\n       ...,\n       [1., 0., 0., 0., 1., 0.],\n       [0., 1., 1., 0., 0., 0.],\n       [0., 1., 0., 1., 0., 0.]])"
     },
     "execution_count": 21,
     "metadata": {},
     "output_type": "execute_result"
    }
   ],
   "source": [
    "result"
   ],
   "metadata": {
    "collapsed": false,
    "pycharm": {
     "name": "#%%\n"
    }
   }
  },
  {
   "cell_type": "code",
   "execution_count": 22,
   "outputs": [],
   "source": [
    "newdata = pd.concat([data,pd.DataFrame(result)],axis=1)\n"
   ],
   "metadata": {
    "collapsed": false,
    "pycharm": {
     "name": "#%%\n"
    }
   }
  },
  {
   "cell_type": "code",
   "execution_count": 23,
   "outputs": [
    {
     "data": {
      "text/plain": "      Age     Sex Embarked Survived    0    1    2    3    4    5\n0    22.0    male        S       No  0.0  1.0  0.0  0.0  1.0  0.0\n1    38.0  female        C      Yes  1.0  0.0  1.0  0.0  0.0  0.0\n2    26.0  female        S      Yes  1.0  0.0  0.0  0.0  1.0  0.0\n3    35.0  female        S      Yes  1.0  0.0  0.0  0.0  1.0  0.0\n4    35.0    male        S       No  0.0  1.0  0.0  0.0  1.0  0.0\n..    ...     ...      ...      ...  ...  ...  ...  ...  ...  ...\n886  27.0    male        S       No  0.0  1.0  0.0  0.0  1.0  0.0\n887  19.0  female        S      Yes  1.0  0.0  0.0  0.0  1.0  0.0\n888   NaN  female        S       No  1.0  0.0  0.0  0.0  1.0  0.0\n889  26.0    male        C  Unknown  0.0  1.0  1.0  0.0  0.0  0.0\n890  32.0    male        Q       No  0.0  1.0  0.0  1.0  0.0  0.0\n\n[891 rows x 10 columns]",
      "text/html": "<div>\n<style scoped>\n    .dataframe tbody tr th:only-of-type {\n        vertical-align: middle;\n    }\n\n    .dataframe tbody tr th {\n        vertical-align: top;\n    }\n\n    .dataframe thead th {\n        text-align: right;\n    }\n</style>\n<table border=\"1\" class=\"dataframe\">\n  <thead>\n    <tr style=\"text-align: right;\">\n      <th></th>\n      <th>Age</th>\n      <th>Sex</th>\n      <th>Embarked</th>\n      <th>Survived</th>\n      <th>0</th>\n      <th>1</th>\n      <th>2</th>\n      <th>3</th>\n      <th>4</th>\n      <th>5</th>\n    </tr>\n  </thead>\n  <tbody>\n    <tr>\n      <th>0</th>\n      <td>22.0</td>\n      <td>male</td>\n      <td>S</td>\n      <td>No</td>\n      <td>0.0</td>\n      <td>1.0</td>\n      <td>0.0</td>\n      <td>0.0</td>\n      <td>1.0</td>\n      <td>0.0</td>\n    </tr>\n    <tr>\n      <th>1</th>\n      <td>38.0</td>\n      <td>female</td>\n      <td>C</td>\n      <td>Yes</td>\n      <td>1.0</td>\n      <td>0.0</td>\n      <td>1.0</td>\n      <td>0.0</td>\n      <td>0.0</td>\n      <td>0.0</td>\n    </tr>\n    <tr>\n      <th>2</th>\n      <td>26.0</td>\n      <td>female</td>\n      <td>S</td>\n      <td>Yes</td>\n      <td>1.0</td>\n      <td>0.0</td>\n      <td>0.0</td>\n      <td>0.0</td>\n      <td>1.0</td>\n      <td>0.0</td>\n    </tr>\n    <tr>\n      <th>3</th>\n      <td>35.0</td>\n      <td>female</td>\n      <td>S</td>\n      <td>Yes</td>\n      <td>1.0</td>\n      <td>0.0</td>\n      <td>0.0</td>\n      <td>0.0</td>\n      <td>1.0</td>\n      <td>0.0</td>\n    </tr>\n    <tr>\n      <th>4</th>\n      <td>35.0</td>\n      <td>male</td>\n      <td>S</td>\n      <td>No</td>\n      <td>0.0</td>\n      <td>1.0</td>\n      <td>0.0</td>\n      <td>0.0</td>\n      <td>1.0</td>\n      <td>0.0</td>\n    </tr>\n    <tr>\n      <th>...</th>\n      <td>...</td>\n      <td>...</td>\n      <td>...</td>\n      <td>...</td>\n      <td>...</td>\n      <td>...</td>\n      <td>...</td>\n      <td>...</td>\n      <td>...</td>\n      <td>...</td>\n    </tr>\n    <tr>\n      <th>886</th>\n      <td>27.0</td>\n      <td>male</td>\n      <td>S</td>\n      <td>No</td>\n      <td>0.0</td>\n      <td>1.0</td>\n      <td>0.0</td>\n      <td>0.0</td>\n      <td>1.0</td>\n      <td>0.0</td>\n    </tr>\n    <tr>\n      <th>887</th>\n      <td>19.0</td>\n      <td>female</td>\n      <td>S</td>\n      <td>Yes</td>\n      <td>1.0</td>\n      <td>0.0</td>\n      <td>0.0</td>\n      <td>0.0</td>\n      <td>1.0</td>\n      <td>0.0</td>\n    </tr>\n    <tr>\n      <th>888</th>\n      <td>NaN</td>\n      <td>female</td>\n      <td>S</td>\n      <td>No</td>\n      <td>1.0</td>\n      <td>0.0</td>\n      <td>0.0</td>\n      <td>0.0</td>\n      <td>1.0</td>\n      <td>0.0</td>\n    </tr>\n    <tr>\n      <th>889</th>\n      <td>26.0</td>\n      <td>male</td>\n      <td>C</td>\n      <td>Unknown</td>\n      <td>0.0</td>\n      <td>1.0</td>\n      <td>1.0</td>\n      <td>0.0</td>\n      <td>0.0</td>\n      <td>0.0</td>\n    </tr>\n    <tr>\n      <th>890</th>\n      <td>32.0</td>\n      <td>male</td>\n      <td>Q</td>\n      <td>No</td>\n      <td>0.0</td>\n      <td>1.0</td>\n      <td>0.0</td>\n      <td>1.0</td>\n      <td>0.0</td>\n      <td>0.0</td>\n    </tr>\n  </tbody>\n</table>\n<p>891 rows × 10 columns</p>\n</div>"
     },
     "execution_count": 23,
     "metadata": {},
     "output_type": "execute_result"
    }
   ],
   "source": [
    "newdata"
   ],
   "metadata": {
    "collapsed": false,
    "pycharm": {
     "name": "#%%\n"
    }
   }
  },
  {
   "cell_type": "code",
   "execution_count": 24,
   "outputs": [
    {
     "data": {
      "text/plain": "          0  1\n0      male  S\n1    female  C\n2    female  S\n3    female  S\n4      male  S\n..      ... ..\n886    male  S\n887  female  S\n888  female  S\n889    male  C\n890    male  Q\n\n[891 rows x 2 columns]",
      "text/html": "<div>\n<style scoped>\n    .dataframe tbody tr th:only-of-type {\n        vertical-align: middle;\n    }\n\n    .dataframe tbody tr th {\n        vertical-align: top;\n    }\n\n    .dataframe thead th {\n        text-align: right;\n    }\n</style>\n<table border=\"1\" class=\"dataframe\">\n  <thead>\n    <tr style=\"text-align: right;\">\n      <th></th>\n      <th>0</th>\n      <th>1</th>\n    </tr>\n  </thead>\n  <tbody>\n    <tr>\n      <th>0</th>\n      <td>male</td>\n      <td>S</td>\n    </tr>\n    <tr>\n      <th>1</th>\n      <td>female</td>\n      <td>C</td>\n    </tr>\n    <tr>\n      <th>2</th>\n      <td>female</td>\n      <td>S</td>\n    </tr>\n    <tr>\n      <th>3</th>\n      <td>female</td>\n      <td>S</td>\n    </tr>\n    <tr>\n      <th>4</th>\n      <td>male</td>\n      <td>S</td>\n    </tr>\n    <tr>\n      <th>...</th>\n      <td>...</td>\n      <td>...</td>\n    </tr>\n    <tr>\n      <th>886</th>\n      <td>male</td>\n      <td>S</td>\n    </tr>\n    <tr>\n      <th>887</th>\n      <td>female</td>\n      <td>S</td>\n    </tr>\n    <tr>\n      <th>888</th>\n      <td>female</td>\n      <td>S</td>\n    </tr>\n    <tr>\n      <th>889</th>\n      <td>male</td>\n      <td>C</td>\n    </tr>\n    <tr>\n      <th>890</th>\n      <td>male</td>\n      <td>Q</td>\n    </tr>\n  </tbody>\n</table>\n<p>891 rows × 2 columns</p>\n</div>"
     },
     "execution_count": 24,
     "metadata": {},
     "output_type": "execute_result"
    }
   ],
   "source": [
    "pd.DataFrame(enc.inverse_transform(result))"
   ],
   "metadata": {
    "collapsed": false,
    "pycharm": {
     "name": "#%%\n"
    }
   }
  },
  {
   "cell_type": "code",
   "execution_count": 25,
   "outputs": [
    {
     "data": {
      "text/plain": "array(['x0_female', 'x0_male', 'x1_C', 'x1_Q', 'x1_S', 'x1_nan'],\n      dtype=object)"
     },
     "execution_count": 25,
     "metadata": {},
     "output_type": "execute_result"
    }
   ],
   "source": [
    "# 字段\n",
    "enc.get_feature_names()"
   ],
   "metadata": {
    "collapsed": false,
    "pycharm": {
     "name": "#%%\n"
    }
   }
  },
  {
   "cell_type": "code",
   "execution_count": 26,
   "outputs": [
    {
     "data": {
      "text/plain": "(891, 6)"
     },
     "execution_count": 26,
     "metadata": {},
     "output_type": "execute_result"
    }
   ],
   "source": [
    "result.shape\n"
   ],
   "metadata": {
    "collapsed": false,
    "pycharm": {
     "name": "#%%\n"
    }
   }
  },
  {
   "cell_type": "code",
   "execution_count": 27,
   "outputs": [
    {
     "data": {
      "text/plain": "Index(['Age', 'Sex', 'Embarked', 'Survived', 0, 1, 2, 3, 4, 5], dtype='object')"
     },
     "execution_count": 27,
     "metadata": {},
     "output_type": "execute_result"
    }
   ],
   "source": [
    "newdata.columns\n"
   ],
   "metadata": {
    "collapsed": false,
    "pycharm": {
     "name": "#%%\n"
    }
   }
  },
  {
   "cell_type": "code",
   "execution_count": 28,
   "outputs": [],
   "source": [
    "newdata.drop([\"Sex\",\"Embarked\"], axis=1, inplace=True)"
   ],
   "metadata": {
    "collapsed": false,
    "pycharm": {
     "name": "#%%\n"
    }
   }
  },
  {
   "cell_type": "code",
   "execution_count": 29,
   "outputs": [
    {
     "data": {
      "text/plain": "      Age Survived    0    1    2    3    4    5\n0    22.0       No  0.0  1.0  0.0  0.0  1.0  0.0\n1    38.0      Yes  1.0  0.0  1.0  0.0  0.0  0.0\n2    26.0      Yes  1.0  0.0  0.0  0.0  1.0  0.0\n3    35.0      Yes  1.0  0.0  0.0  0.0  1.0  0.0\n4    35.0       No  0.0  1.0  0.0  0.0  1.0  0.0\n..    ...      ...  ...  ...  ...  ...  ...  ...\n886  27.0       No  0.0  1.0  0.0  0.0  1.0  0.0\n887  19.0      Yes  1.0  0.0  0.0  0.0  1.0  0.0\n888   NaN       No  1.0  0.0  0.0  0.0  1.0  0.0\n889  26.0  Unknown  0.0  1.0  1.0  0.0  0.0  0.0\n890  32.0       No  0.0  1.0  0.0  1.0  0.0  0.0\n\n[891 rows x 8 columns]",
      "text/html": "<div>\n<style scoped>\n    .dataframe tbody tr th:only-of-type {\n        vertical-align: middle;\n    }\n\n    .dataframe tbody tr th {\n        vertical-align: top;\n    }\n\n    .dataframe thead th {\n        text-align: right;\n    }\n</style>\n<table border=\"1\" class=\"dataframe\">\n  <thead>\n    <tr style=\"text-align: right;\">\n      <th></th>\n      <th>Age</th>\n      <th>Survived</th>\n      <th>0</th>\n      <th>1</th>\n      <th>2</th>\n      <th>3</th>\n      <th>4</th>\n      <th>5</th>\n    </tr>\n  </thead>\n  <tbody>\n    <tr>\n      <th>0</th>\n      <td>22.0</td>\n      <td>No</td>\n      <td>0.0</td>\n      <td>1.0</td>\n      <td>0.0</td>\n      <td>0.0</td>\n      <td>1.0</td>\n      <td>0.0</td>\n    </tr>\n    <tr>\n      <th>1</th>\n      <td>38.0</td>\n      <td>Yes</td>\n      <td>1.0</td>\n      <td>0.0</td>\n      <td>1.0</td>\n      <td>0.0</td>\n      <td>0.0</td>\n      <td>0.0</td>\n    </tr>\n    <tr>\n      <th>2</th>\n      <td>26.0</td>\n      <td>Yes</td>\n      <td>1.0</td>\n      <td>0.0</td>\n      <td>0.0</td>\n      <td>0.0</td>\n      <td>1.0</td>\n      <td>0.0</td>\n    </tr>\n    <tr>\n      <th>3</th>\n      <td>35.0</td>\n      <td>Yes</td>\n      <td>1.0</td>\n      <td>0.0</td>\n      <td>0.0</td>\n      <td>0.0</td>\n      <td>1.0</td>\n      <td>0.0</td>\n    </tr>\n    <tr>\n      <th>4</th>\n      <td>35.0</td>\n      <td>No</td>\n      <td>0.0</td>\n      <td>1.0</td>\n      <td>0.0</td>\n      <td>0.0</td>\n      <td>1.0</td>\n      <td>0.0</td>\n    </tr>\n    <tr>\n      <th>...</th>\n      <td>...</td>\n      <td>...</td>\n      <td>...</td>\n      <td>...</td>\n      <td>...</td>\n      <td>...</td>\n      <td>...</td>\n      <td>...</td>\n    </tr>\n    <tr>\n      <th>886</th>\n      <td>27.0</td>\n      <td>No</td>\n      <td>0.0</td>\n      <td>1.0</td>\n      <td>0.0</td>\n      <td>0.0</td>\n      <td>1.0</td>\n      <td>0.0</td>\n    </tr>\n    <tr>\n      <th>887</th>\n      <td>19.0</td>\n      <td>Yes</td>\n      <td>1.0</td>\n      <td>0.0</td>\n      <td>0.0</td>\n      <td>0.0</td>\n      <td>1.0</td>\n      <td>0.0</td>\n    </tr>\n    <tr>\n      <th>888</th>\n      <td>NaN</td>\n      <td>No</td>\n      <td>1.0</td>\n      <td>0.0</td>\n      <td>0.0</td>\n      <td>0.0</td>\n      <td>1.0</td>\n      <td>0.0</td>\n    </tr>\n    <tr>\n      <th>889</th>\n      <td>26.0</td>\n      <td>Unknown</td>\n      <td>0.0</td>\n      <td>1.0</td>\n      <td>1.0</td>\n      <td>0.0</td>\n      <td>0.0</td>\n      <td>0.0</td>\n    </tr>\n    <tr>\n      <th>890</th>\n      <td>32.0</td>\n      <td>No</td>\n      <td>0.0</td>\n      <td>1.0</td>\n      <td>0.0</td>\n      <td>1.0</td>\n      <td>0.0</td>\n      <td>0.0</td>\n    </tr>\n  </tbody>\n</table>\n<p>891 rows × 8 columns</p>\n</div>"
     },
     "execution_count": 29,
     "metadata": {},
     "output_type": "execute_result"
    }
   ],
   "source": [
    "newdata\n"
   ],
   "metadata": {
    "collapsed": false,
    "pycharm": {
     "name": "#%%\n"
    }
   }
  },
  {
   "cell_type": "code",
   "execution_count": 30,
   "outputs": [],
   "source": [
    "newdata.columns = [\"Age\",\"Survived\",'x0_female', 'x0_male', 'x1_C', 'x1_Q', 'x1_S', 'x1_nan' ]"
   ],
   "metadata": {
    "collapsed": false,
    "pycharm": {
     "name": "#%%\n"
    }
   }
  },
  {
   "cell_type": "code",
   "execution_count": 31,
   "outputs": [
    {
     "data": {
      "text/plain": "      Age Survived  x0_female  x0_male  x1_C  x1_Q  x1_S  x1_nan\n0    22.0       No        0.0      1.0   0.0   0.0   1.0     0.0\n1    38.0      Yes        1.0      0.0   1.0   0.0   0.0     0.0\n2    26.0      Yes        1.0      0.0   0.0   0.0   1.0     0.0\n3    35.0      Yes        1.0      0.0   0.0   0.0   1.0     0.0\n4    35.0       No        0.0      1.0   0.0   0.0   1.0     0.0\n..    ...      ...        ...      ...   ...   ...   ...     ...\n886  27.0       No        0.0      1.0   0.0   0.0   1.0     0.0\n887  19.0      Yes        1.0      0.0   0.0   0.0   1.0     0.0\n888   NaN       No        1.0      0.0   0.0   0.0   1.0     0.0\n889  26.0  Unknown        0.0      1.0   1.0   0.0   0.0     0.0\n890  32.0       No        0.0      1.0   0.0   1.0   0.0     0.0\n\n[891 rows x 8 columns]",
      "text/html": "<div>\n<style scoped>\n    .dataframe tbody tr th:only-of-type {\n        vertical-align: middle;\n    }\n\n    .dataframe tbody tr th {\n        vertical-align: top;\n    }\n\n    .dataframe thead th {\n        text-align: right;\n    }\n</style>\n<table border=\"1\" class=\"dataframe\">\n  <thead>\n    <tr style=\"text-align: right;\">\n      <th></th>\n      <th>Age</th>\n      <th>Survived</th>\n      <th>x0_female</th>\n      <th>x0_male</th>\n      <th>x1_C</th>\n      <th>x1_Q</th>\n      <th>x1_S</th>\n      <th>x1_nan</th>\n    </tr>\n  </thead>\n  <tbody>\n    <tr>\n      <th>0</th>\n      <td>22.0</td>\n      <td>No</td>\n      <td>0.0</td>\n      <td>1.0</td>\n      <td>0.0</td>\n      <td>0.0</td>\n      <td>1.0</td>\n      <td>0.0</td>\n    </tr>\n    <tr>\n      <th>1</th>\n      <td>38.0</td>\n      <td>Yes</td>\n      <td>1.0</td>\n      <td>0.0</td>\n      <td>1.0</td>\n      <td>0.0</td>\n      <td>0.0</td>\n      <td>0.0</td>\n    </tr>\n    <tr>\n      <th>2</th>\n      <td>26.0</td>\n      <td>Yes</td>\n      <td>1.0</td>\n      <td>0.0</td>\n      <td>0.0</td>\n      <td>0.0</td>\n      <td>1.0</td>\n      <td>0.0</td>\n    </tr>\n    <tr>\n      <th>3</th>\n      <td>35.0</td>\n      <td>Yes</td>\n      <td>1.0</td>\n      <td>0.0</td>\n      <td>0.0</td>\n      <td>0.0</td>\n      <td>1.0</td>\n      <td>0.0</td>\n    </tr>\n    <tr>\n      <th>4</th>\n      <td>35.0</td>\n      <td>No</td>\n      <td>0.0</td>\n      <td>1.0</td>\n      <td>0.0</td>\n      <td>0.0</td>\n      <td>1.0</td>\n      <td>0.0</td>\n    </tr>\n    <tr>\n      <th>...</th>\n      <td>...</td>\n      <td>...</td>\n      <td>...</td>\n      <td>...</td>\n      <td>...</td>\n      <td>...</td>\n      <td>...</td>\n      <td>...</td>\n    </tr>\n    <tr>\n      <th>886</th>\n      <td>27.0</td>\n      <td>No</td>\n      <td>0.0</td>\n      <td>1.0</td>\n      <td>0.0</td>\n      <td>0.0</td>\n      <td>1.0</td>\n      <td>0.0</td>\n    </tr>\n    <tr>\n      <th>887</th>\n      <td>19.0</td>\n      <td>Yes</td>\n      <td>1.0</td>\n      <td>0.0</td>\n      <td>0.0</td>\n      <td>0.0</td>\n      <td>1.0</td>\n      <td>0.0</td>\n    </tr>\n    <tr>\n      <th>888</th>\n      <td>NaN</td>\n      <td>No</td>\n      <td>1.0</td>\n      <td>0.0</td>\n      <td>0.0</td>\n      <td>0.0</td>\n      <td>1.0</td>\n      <td>0.0</td>\n    </tr>\n    <tr>\n      <th>889</th>\n      <td>26.0</td>\n      <td>Unknown</td>\n      <td>0.0</td>\n      <td>1.0</td>\n      <td>1.0</td>\n      <td>0.0</td>\n      <td>0.0</td>\n      <td>0.0</td>\n    </tr>\n    <tr>\n      <th>890</th>\n      <td>32.0</td>\n      <td>No</td>\n      <td>0.0</td>\n      <td>1.0</td>\n      <td>0.0</td>\n      <td>1.0</td>\n      <td>0.0</td>\n      <td>0.0</td>\n    </tr>\n  </tbody>\n</table>\n<p>891 rows × 8 columns</p>\n</div>"
     },
     "execution_count": 31,
     "metadata": {},
     "output_type": "execute_result"
    }
   ],
   "source": [
    "newdata"
   ],
   "metadata": {
    "collapsed": false,
    "pycharm": {
     "name": "#%%\n"
    }
   }
  },
  {
   "cell_type": "code",
   "execution_count": 32,
   "outputs": [],
   "source": [
    "from sklearn.preprocessing import LabelEncoder,OrdinalEncoder\n",
    "\n",
    "newdata.iloc[:, 1:-1] = OrdinalEncoder().fit_transform(newdata.iloc[:, 1:-1])\n",
    "\n"
   ],
   "metadata": {
    "collapsed": false,
    "pycharm": {
     "name": "#%%\n"
    }
   }
  },
  {
   "cell_type": "code",
   "execution_count": 33,
   "outputs": [
    {
     "data": {
      "text/plain": "      Age  Survived  x0_female  x0_male  x1_C  x1_Q  x1_S  x1_nan\n0    22.0       0.0        0.0      1.0   0.0   0.0   1.0     0.0\n1    38.0       2.0        1.0      0.0   1.0   0.0   0.0     0.0\n2    26.0       2.0        1.0      0.0   0.0   0.0   1.0     0.0\n3    35.0       2.0        1.0      0.0   0.0   0.0   1.0     0.0\n4    35.0       0.0        0.0      1.0   0.0   0.0   1.0     0.0\n..    ...       ...        ...      ...   ...   ...   ...     ...\n886  27.0       0.0        0.0      1.0   0.0   0.0   1.0     0.0\n887  19.0       2.0        1.0      0.0   0.0   0.0   1.0     0.0\n888   NaN       0.0        1.0      0.0   0.0   0.0   1.0     0.0\n889  26.0       1.0        0.0      1.0   1.0   0.0   0.0     0.0\n890  32.0       0.0        0.0      1.0   0.0   1.0   0.0     0.0\n\n[891 rows x 8 columns]",
      "text/html": "<div>\n<style scoped>\n    .dataframe tbody tr th:only-of-type {\n        vertical-align: middle;\n    }\n\n    .dataframe tbody tr th {\n        vertical-align: top;\n    }\n\n    .dataframe thead th {\n        text-align: right;\n    }\n</style>\n<table border=\"1\" class=\"dataframe\">\n  <thead>\n    <tr style=\"text-align: right;\">\n      <th></th>\n      <th>Age</th>\n      <th>Survived</th>\n      <th>x0_female</th>\n      <th>x0_male</th>\n      <th>x1_C</th>\n      <th>x1_Q</th>\n      <th>x1_S</th>\n      <th>x1_nan</th>\n    </tr>\n  </thead>\n  <tbody>\n    <tr>\n      <th>0</th>\n      <td>22.0</td>\n      <td>0.0</td>\n      <td>0.0</td>\n      <td>1.0</td>\n      <td>0.0</td>\n      <td>0.0</td>\n      <td>1.0</td>\n      <td>0.0</td>\n    </tr>\n    <tr>\n      <th>1</th>\n      <td>38.0</td>\n      <td>2.0</td>\n      <td>1.0</td>\n      <td>0.0</td>\n      <td>1.0</td>\n      <td>0.0</td>\n      <td>0.0</td>\n      <td>0.0</td>\n    </tr>\n    <tr>\n      <th>2</th>\n      <td>26.0</td>\n      <td>2.0</td>\n      <td>1.0</td>\n      <td>0.0</td>\n      <td>0.0</td>\n      <td>0.0</td>\n      <td>1.0</td>\n      <td>0.0</td>\n    </tr>\n    <tr>\n      <th>3</th>\n      <td>35.0</td>\n      <td>2.0</td>\n      <td>1.0</td>\n      <td>0.0</td>\n      <td>0.0</td>\n      <td>0.0</td>\n      <td>1.0</td>\n      <td>0.0</td>\n    </tr>\n    <tr>\n      <th>4</th>\n      <td>35.0</td>\n      <td>0.0</td>\n      <td>0.0</td>\n      <td>1.0</td>\n      <td>0.0</td>\n      <td>0.0</td>\n      <td>1.0</td>\n      <td>0.0</td>\n    </tr>\n    <tr>\n      <th>...</th>\n      <td>...</td>\n      <td>...</td>\n      <td>...</td>\n      <td>...</td>\n      <td>...</td>\n      <td>...</td>\n      <td>...</td>\n      <td>...</td>\n    </tr>\n    <tr>\n      <th>886</th>\n      <td>27.0</td>\n      <td>0.0</td>\n      <td>0.0</td>\n      <td>1.0</td>\n      <td>0.0</td>\n      <td>0.0</td>\n      <td>1.0</td>\n      <td>0.0</td>\n    </tr>\n    <tr>\n      <th>887</th>\n      <td>19.0</td>\n      <td>2.0</td>\n      <td>1.0</td>\n      <td>0.0</td>\n      <td>0.0</td>\n      <td>0.0</td>\n      <td>1.0</td>\n      <td>0.0</td>\n    </tr>\n    <tr>\n      <th>888</th>\n      <td>NaN</td>\n      <td>0.0</td>\n      <td>1.0</td>\n      <td>0.0</td>\n      <td>0.0</td>\n      <td>0.0</td>\n      <td>1.0</td>\n      <td>0.0</td>\n    </tr>\n    <tr>\n      <th>889</th>\n      <td>26.0</td>\n      <td>1.0</td>\n      <td>0.0</td>\n      <td>1.0</td>\n      <td>1.0</td>\n      <td>0.0</td>\n      <td>0.0</td>\n      <td>0.0</td>\n    </tr>\n    <tr>\n      <th>890</th>\n      <td>32.0</td>\n      <td>0.0</td>\n      <td>0.0</td>\n      <td>1.0</td>\n      <td>0.0</td>\n      <td>1.0</td>\n      <td>0.0</td>\n      <td>0.0</td>\n    </tr>\n  </tbody>\n</table>\n<p>891 rows × 8 columns</p>\n</div>"
     },
     "execution_count": 33,
     "metadata": {},
     "output_type": "execute_result"
    }
   ],
   "source": [
    "newdata"
   ],
   "metadata": {
    "collapsed": false,
    "pycharm": {
     "name": "#%%\n"
    }
   }
  },
  {
   "cell_type": "code",
   "execution_count": 34,
   "outputs": [
    {
     "data": {
      "text/plain": "array([[22.  ],\n       [38.  ],\n       [26.  ],\n       [35.  ],\n       [35.  ],\n       [ 0.  ],\n       [54.  ],\n       [ 2.  ],\n       [27.  ],\n       [14.  ],\n       [ 4.  ],\n       [58.  ],\n       [20.  ],\n       [39.  ],\n       [14.  ],\n       [55.  ],\n       [ 2.  ],\n       [ 0.  ],\n       [31.  ],\n       [ 0.  ],\n       [35.  ],\n       [34.  ],\n       [15.  ],\n       [28.  ],\n       [ 8.  ],\n       [38.  ],\n       [ 0.  ],\n       [19.  ],\n       [ 0.  ],\n       [ 0.  ],\n       [40.  ],\n       [ 0.  ],\n       [ 0.  ],\n       [66.  ],\n       [28.  ],\n       [42.  ],\n       [ 0.  ],\n       [21.  ],\n       [18.  ],\n       [14.  ],\n       [40.  ],\n       [27.  ],\n       [ 0.  ],\n       [ 3.  ],\n       [19.  ],\n       [ 0.  ],\n       [ 0.  ],\n       [ 0.  ],\n       [ 0.  ],\n       [18.  ],\n       [ 7.  ],\n       [21.  ],\n       [49.  ],\n       [29.  ],\n       [65.  ],\n       [ 0.  ],\n       [21.  ],\n       [28.5 ],\n       [ 5.  ],\n       [11.  ],\n       [22.  ],\n       [38.  ],\n       [45.  ],\n       [ 4.  ],\n       [ 0.  ],\n       [ 0.  ],\n       [29.  ],\n       [19.  ],\n       [17.  ],\n       [26.  ],\n       [32.  ],\n       [16.  ],\n       [21.  ],\n       [26.  ],\n       [32.  ],\n       [25.  ],\n       [ 0.  ],\n       [ 0.  ],\n       [ 0.83],\n       [30.  ],\n       [22.  ],\n       [29.  ],\n       [ 0.  ],\n       [28.  ],\n       [17.  ],\n       [33.  ],\n       [16.  ],\n       [ 0.  ],\n       [23.  ],\n       [24.  ],\n       [29.  ],\n       [20.  ],\n       [46.  ],\n       [26.  ],\n       [59.  ],\n       [ 0.  ],\n       [71.  ],\n       [23.  ],\n       [34.  ],\n       [34.  ],\n       [28.  ],\n       [ 0.  ],\n       [21.  ],\n       [33.  ],\n       [37.  ],\n       [28.  ],\n       [21.  ],\n       [ 0.  ],\n       [38.  ],\n       [ 0.  ],\n       [47.  ],\n       [14.5 ],\n       [22.  ],\n       [20.  ],\n       [17.  ],\n       [21.  ],\n       [70.5 ],\n       [29.  ],\n       [24.  ],\n       [ 2.  ],\n       [21.  ],\n       [ 0.  ],\n       [32.5 ],\n       [32.5 ],\n       [54.  ],\n       [12.  ],\n       [ 0.  ],\n       [24.  ],\n       [ 0.  ],\n       [45.  ],\n       [33.  ],\n       [20.  ],\n       [47.  ],\n       [29.  ],\n       [25.  ],\n       [23.  ],\n       [19.  ],\n       [37.  ],\n       [16.  ],\n       [24.  ],\n       [ 0.  ],\n       [22.  ],\n       [24.  ],\n       [19.  ],\n       [18.  ],\n       [19.  ],\n       [27.  ],\n       [ 9.  ],\n       [36.5 ],\n       [42.  ],\n       [51.  ],\n       [22.  ],\n       [55.5 ],\n       [40.5 ],\n       [ 0.  ],\n       [51.  ],\n       [16.  ],\n       [30.  ],\n       [ 0.  ],\n       [ 0.  ],\n       [44.  ],\n       [40.  ],\n       [26.  ],\n       [17.  ],\n       [ 1.  ],\n       [ 9.  ],\n       [ 0.  ],\n       [45.  ],\n       [ 0.  ],\n       [28.  ],\n       [61.  ],\n       [ 4.  ],\n       [ 1.  ],\n       [21.  ],\n       [56.  ],\n       [18.  ],\n       [ 0.  ],\n       [50.  ],\n       [30.  ],\n       [36.  ],\n       [ 0.  ],\n       [ 0.  ],\n       [ 9.  ],\n       [ 1.  ],\n       [ 4.  ],\n       [ 0.  ],\n       [ 0.  ],\n       [45.  ],\n       [40.  ],\n       [36.  ],\n       [32.  ],\n       [19.  ],\n       [19.  ],\n       [ 3.  ],\n       [44.  ],\n       [58.  ],\n       [ 0.  ],\n       [42.  ],\n       [ 0.  ],\n       [24.  ],\n       [28.  ],\n       [ 0.  ],\n       [34.  ],\n       [45.5 ],\n       [18.  ],\n       [ 2.  ],\n       [32.  ],\n       [26.  ],\n       [16.  ],\n       [40.  ],\n       [24.  ],\n       [35.  ],\n       [22.  ],\n       [30.  ],\n       [ 0.  ],\n       [31.  ],\n       [27.  ],\n       [42.  ],\n       [32.  ],\n       [30.  ],\n       [16.  ],\n       [27.  ],\n       [51.  ],\n       [ 0.  ],\n       [38.  ],\n       [22.  ],\n       [19.  ],\n       [20.5 ],\n       [18.  ],\n       [ 0.  ],\n       [35.  ],\n       [29.  ],\n       [59.  ],\n       [ 5.  ],\n       [24.  ],\n       [ 0.  ],\n       [44.  ],\n       [ 8.  ],\n       [19.  ],\n       [33.  ],\n       [ 0.  ],\n       [ 0.  ],\n       [29.  ],\n       [22.  ],\n       [30.  ],\n       [44.  ],\n       [25.  ],\n       [24.  ],\n       [37.  ],\n       [54.  ],\n       [ 0.  ],\n       [29.  ],\n       [62.  ],\n       [30.  ],\n       [41.  ],\n       [29.  ],\n       [ 0.  ],\n       [30.  ],\n       [35.  ],\n       [50.  ],\n       [ 0.  ],\n       [ 3.  ],\n       [52.  ],\n       [40.  ],\n       [ 0.  ],\n       [36.  ],\n       [16.  ],\n       [25.  ],\n       [58.  ],\n       [35.  ],\n       [ 0.  ],\n       [25.  ],\n       [41.  ],\n       [37.  ],\n       [ 0.  ],\n       [63.  ],\n       [45.  ],\n       [ 0.  ],\n       [ 7.  ],\n       [35.  ],\n       [65.  ],\n       [28.  ],\n       [16.  ],\n       [19.  ],\n       [ 0.  ],\n       [33.  ],\n       [30.  ],\n       [22.  ],\n       [42.  ],\n       [22.  ],\n       [26.  ],\n       [19.  ],\n       [36.  ],\n       [24.  ],\n       [24.  ],\n       [ 0.  ],\n       [23.5 ],\n       [ 2.  ],\n       [ 0.  ],\n       [50.  ],\n       [ 0.  ],\n       [ 0.  ],\n       [19.  ],\n       [ 0.  ],\n       [ 0.  ],\n       [ 0.92],\n       [ 0.  ],\n       [17.  ],\n       [30.  ],\n       [30.  ],\n       [24.  ],\n       [18.  ],\n       [26.  ],\n       [28.  ],\n       [43.  ],\n       [26.  ],\n       [24.  ],\n       [54.  ],\n       [31.  ],\n       [40.  ],\n       [22.  ],\n       [27.  ],\n       [30.  ],\n       [22.  ],\n       [ 0.  ],\n       [36.  ],\n       [61.  ],\n       [36.  ],\n       [31.  ],\n       [16.  ],\n       [ 0.  ],\n       [45.5 ],\n       [38.  ],\n       [16.  ],\n       [ 0.  ],\n       [ 0.  ],\n       [29.  ],\n       [41.  ],\n       [45.  ],\n       [45.  ],\n       [ 2.  ],\n       [24.  ],\n       [28.  ],\n       [25.  ],\n       [36.  ],\n       [24.  ],\n       [40.  ],\n       [ 0.  ],\n       [ 3.  ],\n       [42.  ],\n       [23.  ],\n       [ 0.  ],\n       [15.  ],\n       [25.  ],\n       [ 0.  ],\n       [28.  ],\n       [22.  ],\n       [38.  ],\n       [ 0.  ],\n       [ 0.  ],\n       [40.  ],\n       [29.  ],\n       [45.  ],\n       [35.  ],\n       [ 0.  ],\n       [30.  ],\n       [60.  ],\n       [ 0.  ],\n       [ 0.  ],\n       [24.  ],\n       [25.  ],\n       [18.  ],\n       [19.  ],\n       [22.  ],\n       [ 3.  ],\n       [ 0.  ],\n       [22.  ],\n       [27.  ],\n       [20.  ],\n       [19.  ],\n       [42.  ],\n       [ 1.  ],\n       [32.  ],\n       [35.  ],\n       [ 0.  ],\n       [18.  ],\n       [ 1.  ],\n       [36.  ],\n       [ 0.  ],\n       [17.  ],\n       [36.  ],\n       [21.  ],\n       [28.  ],\n       [23.  ],\n       [24.  ],\n       [22.  ],\n       [31.  ],\n       [46.  ],\n       [23.  ],\n       [28.  ],\n       [39.  ],\n       [26.  ],\n       [21.  ],\n       [28.  ],\n       [20.  ],\n       [34.  ],\n       [51.  ],\n       [ 3.  ],\n       [21.  ],\n       [ 0.  ],\n       [ 0.  ],\n       [ 0.  ],\n       [33.  ],\n       [ 0.  ],\n       [44.  ],\n       [ 0.  ],\n       [34.  ],\n       [18.  ],\n       [30.  ],\n       [10.  ],\n       [ 0.  ],\n       [21.  ],\n       [29.  ],\n       [28.  ],\n       [18.  ],\n       [ 0.  ],\n       [28.  ],\n       [19.  ],\n       [ 0.  ],\n       [32.  ],\n       [28.  ],\n       [ 0.  ],\n       [42.  ],\n       [17.  ],\n       [50.  ],\n       [14.  ],\n       [21.  ],\n       [24.  ],\n       [64.  ],\n       [31.  ],\n       [45.  ],\n       [20.  ],\n       [25.  ],\n       [28.  ],\n       [ 0.  ],\n       [ 4.  ],\n       [13.  ],\n       [34.  ],\n       [ 5.  ],\n       [52.  ],\n       [36.  ],\n       [ 0.  ],\n       [30.  ],\n       [49.  ],\n       [ 0.  ],\n       [29.  ],\n       [65.  ],\n       [ 0.  ],\n       [50.  ],\n       [ 0.  ],\n       [48.  ],\n       [34.  ],\n       [47.  ],\n       [48.  ],\n       [ 0.  ],\n       [38.  ],\n       [ 0.  ],\n       [56.  ],\n       [ 0.  ],\n       [ 0.75],\n       [ 0.  ],\n       [38.  ],\n       [33.  ],\n       [23.  ],\n       [22.  ],\n       [ 0.  ],\n       [34.  ],\n       [29.  ],\n       [22.  ],\n       [ 2.  ],\n       [ 9.  ],\n       [ 0.  ],\n       [50.  ],\n       [63.  ],\n       [25.  ],\n       [ 0.  ],\n       [35.  ],\n       [58.  ],\n       [30.  ],\n       [ 9.  ],\n       [ 0.  ],\n       [21.  ],\n       [55.  ],\n       [71.  ],\n       [21.  ],\n       [ 0.  ],\n       [54.  ],\n       [ 0.  ],\n       [25.  ],\n       [24.  ],\n       [17.  ],\n       [21.  ],\n       [ 0.  ],\n       [37.  ],\n       [16.  ],\n       [18.  ],\n       [33.  ],\n       [ 0.  ],\n       [28.  ],\n       [26.  ],\n       [29.  ],\n       [ 0.  ],\n       [36.  ],\n       [54.  ],\n       [24.  ],\n       [47.  ],\n       [34.  ],\n       [ 0.  ],\n       [36.  ],\n       [32.  ],\n       [30.  ],\n       [22.  ],\n       [ 0.  ],\n       [44.  ],\n       [ 0.  ],\n       [40.5 ],\n       [50.  ],\n       [ 0.  ],\n       [39.  ],\n       [23.  ],\n       [ 2.  ],\n       [ 0.  ],\n       [17.  ],\n       [ 0.  ],\n       [30.  ],\n       [ 7.  ],\n       [45.  ],\n       [30.  ],\n       [ 0.  ],\n       [22.  ],\n       [36.  ],\n       [ 9.  ],\n       [11.  ],\n       [32.  ],\n       [50.  ],\n       [64.  ],\n       [19.  ],\n       [ 0.  ],\n       [33.  ],\n       [ 8.  ],\n       [17.  ],\n       [27.  ],\n       [ 0.  ],\n       [22.  ],\n       [22.  ],\n       [62.  ],\n       [48.  ],\n       [ 0.  ],\n       [39.  ],\n       [36.  ],\n       [ 0.  ],\n       [40.  ],\n       [28.  ],\n       [ 0.  ],\n       [ 0.  ],\n       [24.  ],\n       [19.  ],\n       [29.  ],\n       [ 0.  ],\n       [32.  ],\n       [62.  ],\n       [53.  ],\n       [36.  ],\n       [ 0.  ],\n       [16.  ],\n       [19.  ],\n       [34.  ],\n       [39.  ],\n       [ 0.  ],\n       [32.  ],\n       [25.  ],\n       [39.  ],\n       [54.  ],\n       [36.  ],\n       [ 0.  ],\n       [18.  ],\n       [47.  ],\n       [60.  ],\n       [22.  ],\n       [ 0.  ],\n       [35.  ],\n       [52.  ],\n       [47.  ],\n       [ 0.  ],\n       [37.  ],\n       [36.  ],\n       [ 0.  ],\n       [49.  ],\n       [ 0.  ],\n       [49.  ],\n       [24.  ],\n       [ 0.  ],\n       [ 0.  ],\n       [44.  ],\n       [35.  ],\n       [36.  ],\n       [30.  ],\n       [27.  ],\n       [22.  ],\n       [40.  ],\n       [39.  ],\n       [ 0.  ],\n       [ 0.  ],\n       [ 0.  ],\n       [35.  ],\n       [24.  ],\n       [34.  ],\n       [26.  ],\n       [ 4.  ],\n       [26.  ],\n       [27.  ],\n       [42.  ],\n       [20.  ],\n       [21.  ],\n       [21.  ],\n       [61.  ],\n       [57.  ],\n       [21.  ],\n       [26.  ],\n       [ 0.  ],\n       [80.  ],\n       [51.  ],\n       [32.  ],\n       [ 0.  ],\n       [ 9.  ],\n       [28.  ],\n       [32.  ],\n       [31.  ],\n       [41.  ],\n       [ 0.  ],\n       [20.  ],\n       [24.  ],\n       [ 2.  ],\n       [ 0.  ],\n       [ 0.75],\n       [48.  ],\n       [19.  ],\n       [56.  ],\n       [ 0.  ],\n       [23.  ],\n       [ 0.  ],\n       [18.  ],\n       [21.  ],\n       [ 0.  ],\n       [18.  ],\n       [24.  ],\n       [ 0.  ],\n       [32.  ],\n       [23.  ],\n       [58.  ],\n       [50.  ],\n       [40.  ],\n       [47.  ],\n       [36.  ],\n       [20.  ],\n       [32.  ],\n       [25.  ],\n       [ 0.  ],\n       [43.  ],\n       [ 0.  ],\n       [40.  ],\n       [31.  ],\n       [70.  ],\n       [31.  ],\n       [ 0.  ],\n       [18.  ],\n       [24.5 ],\n       [18.  ],\n       [43.  ],\n       [36.  ],\n       [ 0.  ],\n       [27.  ],\n       [20.  ],\n       [14.  ],\n       [60.  ],\n       [25.  ],\n       [14.  ],\n       [19.  ],\n       [18.  ],\n       [15.  ],\n       [31.  ],\n       [ 4.  ],\n       [ 0.  ],\n       [25.  ],\n       [60.  ],\n       [52.  ],\n       [44.  ],\n       [ 0.  ],\n       [49.  ],\n       [42.  ],\n       [18.  ],\n       [35.  ],\n       [18.  ],\n       [25.  ],\n       [26.  ],\n       [39.  ],\n       [45.  ],\n       [42.  ],\n       [22.  ],\n       [ 0.  ],\n       [24.  ],\n       [ 0.  ],\n       [48.  ],\n       [29.  ],\n       [52.  ],\n       [19.  ],\n       [38.  ],\n       [27.  ],\n       [ 0.  ],\n       [33.  ],\n       [ 6.  ],\n       [17.  ],\n       [34.  ],\n       [50.  ],\n       [27.  ],\n       [20.  ],\n       [30.  ],\n       [ 0.  ],\n       [25.  ],\n       [25.  ],\n       [29.  ],\n       [11.  ],\n       [ 0.  ],\n       [23.  ],\n       [23.  ],\n       [28.5 ],\n       [48.  ],\n       [35.  ],\n       [ 0.  ],\n       [ 0.  ],\n       [ 0.  ],\n       [36.  ],\n       [21.  ],\n       [24.  ],\n       [31.  ],\n       [70.  ],\n       [16.  ],\n       [30.  ],\n       [19.  ],\n       [31.  ],\n       [ 4.  ],\n       [ 6.  ],\n       [33.  ],\n       [23.  ],\n       [48.  ],\n       [ 0.67],\n       [28.  ],\n       [18.  ],\n       [34.  ],\n       [33.  ],\n       [ 0.  ],\n       [41.  ],\n       [20.  ],\n       [36.  ],\n       [16.  ],\n       [51.  ],\n       [ 0.  ],\n       [30.5 ],\n       [ 0.  ],\n       [32.  ],\n       [24.  ],\n       [48.  ],\n       [57.  ],\n       [ 0.  ],\n       [54.  ],\n       [18.  ],\n       [ 0.  ],\n       [ 5.  ],\n       [ 0.  ],\n       [43.  ],\n       [13.  ],\n       [17.  ],\n       [29.  ],\n       [ 0.  ],\n       [25.  ],\n       [25.  ],\n       [18.  ],\n       [ 8.  ],\n       [ 1.  ],\n       [46.  ],\n       [ 0.  ],\n       [16.  ],\n       [ 0.  ],\n       [ 0.  ],\n       [25.  ],\n       [39.  ],\n       [49.  ],\n       [31.  ],\n       [30.  ],\n       [30.  ],\n       [34.  ],\n       [31.  ],\n       [11.  ],\n       [ 0.42],\n       [27.  ],\n       [31.  ],\n       [39.  ],\n       [18.  ],\n       [39.  ],\n       [33.  ],\n       [26.  ],\n       [39.  ],\n       [35.  ],\n       [ 6.  ],\n       [30.5 ],\n       [ 0.  ],\n       [23.  ],\n       [31.  ],\n       [43.  ],\n       [10.  ],\n       [52.  ],\n       [27.  ],\n       [38.  ],\n       [27.  ],\n       [ 2.  ],\n       [ 0.  ],\n       [ 0.  ],\n       [ 1.  ],\n       [ 0.  ],\n       [62.  ],\n       [15.  ],\n       [ 0.83],\n       [ 0.  ],\n       [23.  ],\n       [18.  ],\n       [39.  ],\n       [21.  ],\n       [ 0.  ],\n       [32.  ],\n       [ 0.  ],\n       [20.  ],\n       [16.  ],\n       [30.  ],\n       [34.5 ],\n       [17.  ],\n       [42.  ],\n       [ 0.  ],\n       [35.  ],\n       [28.  ],\n       [ 0.  ],\n       [ 4.  ],\n       [74.  ],\n       [ 9.  ],\n       [16.  ],\n       [44.  ],\n       [18.  ],\n       [45.  ],\n       [51.  ],\n       [24.  ],\n       [ 0.  ],\n       [41.  ],\n       [21.  ],\n       [48.  ],\n       [ 0.  ],\n       [24.  ],\n       [42.  ],\n       [27.  ],\n       [31.  ],\n       [ 0.  ],\n       [ 4.  ],\n       [26.  ],\n       [47.  ],\n       [33.  ],\n       [47.  ],\n       [28.  ],\n       [15.  ],\n       [20.  ],\n       [19.  ],\n       [ 0.  ],\n       [56.  ],\n       [25.  ],\n       [33.  ],\n       [22.  ],\n       [28.  ],\n       [25.  ],\n       [39.  ],\n       [27.  ],\n       [19.  ],\n       [ 0.  ],\n       [26.  ],\n       [32.  ]])"
     },
     "execution_count": 34,
     "metadata": {},
     "output_type": "execute_result"
    }
   ],
   "source": [
    "from sklearn.preprocessing import Binarizer\n",
    "\n",
    "data_2 = data.copy().fillna(0)\n",
    "X = data_2.iloc[:,0].values.reshape(-1,1)\n",
    "X"
   ],
   "metadata": {
    "collapsed": false,
    "pycharm": {
     "name": "#%%\n"
    }
   }
  },
  {
   "cell_type": "code",
   "execution_count": 35,
   "outputs": [
    {
     "data": {
      "text/plain": "array([[0.],\n       [1.],\n       [0.],\n       [1.],\n       [1.],\n       [0.],\n       [1.],\n       [0.],\n       [0.],\n       [0.],\n       [0.],\n       [1.],\n       [0.],\n       [1.],\n       [0.],\n       [1.],\n       [0.],\n       [0.],\n       [1.],\n       [0.],\n       [1.],\n       [1.],\n       [0.],\n       [0.],\n       [0.],\n       [1.],\n       [0.],\n       [0.],\n       [0.],\n       [0.],\n       [1.],\n       [0.],\n       [0.],\n       [1.],\n       [0.],\n       [1.],\n       [0.],\n       [0.],\n       [0.],\n       [0.],\n       [1.],\n       [0.],\n       [0.],\n       [0.],\n       [0.],\n       [0.],\n       [0.],\n       [0.],\n       [0.],\n       [0.],\n       [0.],\n       [0.],\n       [1.],\n       [0.],\n       [1.],\n       [0.],\n       [0.],\n       [0.],\n       [0.],\n       [0.],\n       [0.],\n       [1.],\n       [1.],\n       [0.],\n       [0.],\n       [0.],\n       [0.],\n       [0.],\n       [0.],\n       [0.],\n       [1.],\n       [0.],\n       [0.],\n       [0.],\n       [1.],\n       [0.],\n       [0.],\n       [0.],\n       [0.],\n       [0.],\n       [0.],\n       [0.],\n       [0.],\n       [0.],\n       [0.],\n       [1.],\n       [0.],\n       [0.],\n       [0.],\n       [0.],\n       [0.],\n       [0.],\n       [1.],\n       [0.],\n       [1.],\n       [0.],\n       [1.],\n       [0.],\n       [1.],\n       [1.],\n       [0.],\n       [0.],\n       [0.],\n       [1.],\n       [1.],\n       [0.],\n       [0.],\n       [0.],\n       [1.],\n       [0.],\n       [1.],\n       [0.],\n       [0.],\n       [0.],\n       [0.],\n       [0.],\n       [1.],\n       [0.],\n       [0.],\n       [0.],\n       [0.],\n       [0.],\n       [1.],\n       [1.],\n       [1.],\n       [0.],\n       [0.],\n       [0.],\n       [0.],\n       [1.],\n       [1.],\n       [0.],\n       [1.],\n       [0.],\n       [0.],\n       [0.],\n       [0.],\n       [1.],\n       [0.],\n       [0.],\n       [0.],\n       [0.],\n       [0.],\n       [0.],\n       [0.],\n       [0.],\n       [0.],\n       [0.],\n       [1.],\n       [1.],\n       [1.],\n       [0.],\n       [1.],\n       [1.],\n       [0.],\n       [1.],\n       [0.],\n       [0.],\n       [0.],\n       [0.],\n       [1.],\n       [1.],\n       [0.],\n       [0.],\n       [0.],\n       [0.],\n       [0.],\n       [1.],\n       [0.],\n       [0.],\n       [1.],\n       [0.],\n       [0.],\n       [0.],\n       [1.],\n       [0.],\n       [0.],\n       [1.],\n       [0.],\n       [1.],\n       [0.],\n       [0.],\n       [0.],\n       [0.],\n       [0.],\n       [0.],\n       [0.],\n       [1.],\n       [1.],\n       [1.],\n       [1.],\n       [0.],\n       [0.],\n       [0.],\n       [1.],\n       [1.],\n       [0.],\n       [1.],\n       [0.],\n       [0.],\n       [0.],\n       [0.],\n       [1.],\n       [1.],\n       [0.],\n       [0.],\n       [1.],\n       [0.],\n       [0.],\n       [1.],\n       [0.],\n       [1.],\n       [0.],\n       [0.],\n       [0.],\n       [1.],\n       [0.],\n       [1.],\n       [1.],\n       [0.],\n       [0.],\n       [0.],\n       [1.],\n       [0.],\n       [1.],\n       [0.],\n       [0.],\n       [0.],\n       [0.],\n       [0.],\n       [1.],\n       [0.],\n       [1.],\n       [0.],\n       [0.],\n       [0.],\n       [1.],\n       [0.],\n       [0.],\n       [1.],\n       [0.],\n       [0.],\n       [0.],\n       [0.],\n       [0.],\n       [1.],\n       [0.],\n       [0.],\n       [1.],\n       [1.],\n       [0.],\n       [0.],\n       [1.],\n       [0.],\n       [1.],\n       [0.],\n       [0.],\n       [0.],\n       [1.],\n       [1.],\n       [0.],\n       [0.],\n       [1.],\n       [1.],\n       [0.],\n       [1.],\n       [0.],\n       [0.],\n       [1.],\n       [1.],\n       [0.],\n       [0.],\n       [1.],\n       [1.],\n       [0.],\n       [1.],\n       [1.],\n       [0.],\n       [0.],\n       [1.],\n       [1.],\n       [0.],\n       [0.],\n       [0.],\n       [0.],\n       [1.],\n       [0.],\n       [0.],\n       [1.],\n       [0.],\n       [0.],\n       [0.],\n       [1.],\n       [0.],\n       [0.],\n       [0.],\n       [0.],\n       [0.],\n       [0.],\n       [1.],\n       [0.],\n       [0.],\n       [0.],\n       [0.],\n       [0.],\n       [0.],\n       [0.],\n       [0.],\n       [0.],\n       [0.],\n       [0.],\n       [0.],\n       [0.],\n       [0.],\n       [1.],\n       [0.],\n       [0.],\n       [1.],\n       [1.],\n       [1.],\n       [0.],\n       [0.],\n       [0.],\n       [0.],\n       [0.],\n       [1.],\n       [1.],\n       [1.],\n       [1.],\n       [0.],\n       [0.],\n       [1.],\n       [1.],\n       [0.],\n       [0.],\n       [0.],\n       [0.],\n       [1.],\n       [1.],\n       [1.],\n       [0.],\n       [0.],\n       [0.],\n       [0.],\n       [1.],\n       [0.],\n       [1.],\n       [0.],\n       [0.],\n       [1.],\n       [0.],\n       [0.],\n       [0.],\n       [0.],\n       [0.],\n       [0.],\n       [0.],\n       [1.],\n       [0.],\n       [0.],\n       [1.],\n       [0.],\n       [1.],\n       [1.],\n       [0.],\n       [0.],\n       [1.],\n       [0.],\n       [0.],\n       [0.],\n       [0.],\n       [0.],\n       [0.],\n       [0.],\n       [0.],\n       [0.],\n       [0.],\n       [0.],\n       [0.],\n       [0.],\n       [1.],\n       [0.],\n       [1.],\n       [1.],\n       [0.],\n       [0.],\n       [0.],\n       [1.],\n       [0.],\n       [0.],\n       [1.],\n       [0.],\n       [0.],\n       [0.],\n       [0.],\n       [0.],\n       [1.],\n       [1.],\n       [0.],\n       [0.],\n       [1.],\n       [0.],\n       [0.],\n       [0.],\n       [0.],\n       [1.],\n       [1.],\n       [0.],\n       [0.],\n       [0.],\n       [0.],\n       [0.],\n       [1.],\n       [0.],\n       [1.],\n       [0.],\n       [1.],\n       [0.],\n       [0.],\n       [0.],\n       [0.],\n       [0.],\n       [0.],\n       [0.],\n       [0.],\n       [0.],\n       [0.],\n       [0.],\n       [0.],\n       [1.],\n       [0.],\n       [0.],\n       [1.],\n       [0.],\n       [1.],\n       [0.],\n       [0.],\n       [0.],\n       [1.],\n       [1.],\n       [1.],\n       [0.],\n       [0.],\n       [0.],\n       [0.],\n       [0.],\n       [0.],\n       [1.],\n       [0.],\n       [1.],\n       [1.],\n       [0.],\n       [0.],\n       [1.],\n       [0.],\n       [0.],\n       [1.],\n       [0.],\n       [1.],\n       [0.],\n       [1.],\n       [1.],\n       [1.],\n       [1.],\n       [0.],\n       [1.],\n       [0.],\n       [1.],\n       [0.],\n       [0.],\n       [0.],\n       [1.],\n       [1.],\n       [0.],\n       [0.],\n       [0.],\n       [1.],\n       [0.],\n       [0.],\n       [0.],\n       [0.],\n       [0.],\n       [1.],\n       [1.],\n       [0.],\n       [0.],\n       [1.],\n       [1.],\n       [0.],\n       [0.],\n       [0.],\n       [0.],\n       [1.],\n       [1.],\n       [0.],\n       [0.],\n       [1.],\n       [0.],\n       [0.],\n       [0.],\n       [0.],\n       [0.],\n       [0.],\n       [1.],\n       [0.],\n       [0.],\n       [1.],\n       [0.],\n       [0.],\n       [0.],\n       [0.],\n       [0.],\n       [1.],\n       [1.],\n       [0.],\n       [1.],\n       [1.],\n       [0.],\n       [1.],\n       [1.],\n       [0.],\n       [0.],\n       [0.],\n       [1.],\n       [0.],\n       [1.],\n       [1.],\n       [0.],\n       [1.],\n       [0.],\n       [0.],\n       [0.],\n       [0.],\n       [0.],\n       [0.],\n       [0.],\n       [1.],\n       [0.],\n       [0.],\n       [0.],\n       [1.],\n       [0.],\n       [0.],\n       [1.],\n       [1.],\n       [1.],\n       [0.],\n       [0.],\n       [1.],\n       [0.],\n       [0.],\n       [0.],\n       [0.],\n       [0.],\n       [0.],\n       [1.],\n       [1.],\n       [0.],\n       [1.],\n       [1.],\n       [0.],\n       [1.],\n       [0.],\n       [0.],\n       [0.],\n       [0.],\n       [0.],\n       [0.],\n       [0.],\n       [1.],\n       [1.],\n       [1.],\n       [1.],\n       [0.],\n       [0.],\n       [0.],\n       [1.],\n       [1.],\n       [0.],\n       [1.],\n       [0.],\n       [1.],\n       [1.],\n       [1.],\n       [0.],\n       [0.],\n       [1.],\n       [1.],\n       [0.],\n       [0.],\n       [1.],\n       [1.],\n       [1.],\n       [0.],\n       [1.],\n       [1.],\n       [0.],\n       [1.],\n       [0.],\n       [1.],\n       [0.],\n       [0.],\n       [0.],\n       [1.],\n       [1.],\n       [1.],\n       [0.],\n       [0.],\n       [0.],\n       [1.],\n       [1.],\n       [0.],\n       [0.],\n       [0.],\n       [1.],\n       [0.],\n       [1.],\n       [0.],\n       [0.],\n       [0.],\n       [0.],\n       [1.],\n       [0.],\n       [0.],\n       [0.],\n       [1.],\n       [1.],\n       [0.],\n       [0.],\n       [0.],\n       [1.],\n       [1.],\n       [1.],\n       [0.],\n       [0.],\n       [0.],\n       [1.],\n       [1.],\n       [1.],\n       [0.],\n       [0.],\n       [0.],\n       [0.],\n       [0.],\n       [0.],\n       [1.],\n       [0.],\n       [1.],\n       [0.],\n       [0.],\n       [0.],\n       [0.],\n       [0.],\n       [0.],\n       [0.],\n       [0.],\n       [0.],\n       [1.],\n       [0.],\n       [1.],\n       [1.],\n       [1.],\n       [1.],\n       [1.],\n       [0.],\n       [1.],\n       [0.],\n       [0.],\n       [1.],\n       [0.],\n       [1.],\n       [1.],\n       [1.],\n       [1.],\n       [0.],\n       [0.],\n       [0.],\n       [0.],\n       [1.],\n       [1.],\n       [0.],\n       [0.],\n       [0.],\n       [0.],\n       [1.],\n       [0.],\n       [0.],\n       [0.],\n       [0.],\n       [0.],\n       [1.],\n       [0.],\n       [0.],\n       [0.],\n       [1.],\n       [1.],\n       [1.],\n       [0.],\n       [1.],\n       [1.],\n       [0.],\n       [1.],\n       [0.],\n       [0.],\n       [0.],\n       [1.],\n       [1.],\n       [1.],\n       [0.],\n       [0.],\n       [0.],\n       [0.],\n       [1.],\n       [0.],\n       [1.],\n       [0.],\n       [1.],\n       [0.],\n       [0.],\n       [1.],\n       [0.],\n       [0.],\n       [1.],\n       [1.],\n       [0.],\n       [0.],\n       [0.],\n       [0.],\n       [0.],\n       [0.],\n       [0.],\n       [0.],\n       [0.],\n       [0.],\n       [0.],\n       [0.],\n       [1.],\n       [1.],\n       [0.],\n       [0.],\n       [0.],\n       [1.],\n       [0.],\n       [0.],\n       [1.],\n       [1.],\n       [0.],\n       [0.],\n       [0.],\n       [1.],\n       [0.],\n       [0.],\n       [1.],\n       [0.],\n       [1.],\n       [0.],\n       [0.],\n       [0.],\n       [1.],\n       [1.],\n       [0.],\n       [1.],\n       [0.],\n       [1.],\n       [0.],\n       [1.],\n       [0.],\n       [1.],\n       [0.],\n       [1.],\n       [0.],\n       [1.],\n       [1.],\n       [0.],\n       [1.],\n       [0.],\n       [0.],\n       [0.],\n       [0.],\n       [1.],\n       [0.],\n       [0.],\n       [0.],\n       [0.],\n       [0.],\n       [0.],\n       [0.],\n       [0.],\n       [0.],\n       [1.],\n       [0.],\n       [0.],\n       [0.],\n       [0.],\n       [0.],\n       [1.],\n       [1.],\n       [1.],\n       [0.],\n       [0.],\n       [1.],\n       [1.],\n       [0.],\n       [0.],\n       [0.],\n       [1.],\n       [1.],\n       [0.],\n       [1.],\n       [1.],\n       [0.],\n       [1.],\n       [1.],\n       [0.],\n       [1.],\n       [0.],\n       [0.],\n       [1.],\n       [1.],\n       [0.],\n       [1.],\n       [0.],\n       [1.],\n       [0.],\n       [0.],\n       [0.],\n       [0.],\n       [0.],\n       [0.],\n       [1.],\n       [0.],\n       [0.],\n       [0.],\n       [0.],\n       [0.],\n       [1.],\n       [0.],\n       [0.],\n       [1.],\n       [0.],\n       [0.],\n       [0.],\n       [0.],\n       [1.],\n       [0.],\n       [1.],\n       [0.],\n       [1.],\n       [0.],\n       [0.],\n       [0.],\n       [1.],\n       [0.],\n       [0.],\n       [1.],\n       [0.],\n       [1.],\n       [1.],\n       [0.],\n       [0.],\n       [1.],\n       [0.],\n       [1.],\n       [0.],\n       [0.],\n       [1.],\n       [0.],\n       [1.],\n       [0.],\n       [0.],\n       [0.],\n       [1.],\n       [1.],\n       [1.],\n       [0.],\n       [0.],\n       [0.],\n       [0.],\n       [0.],\n       [1.],\n       [0.],\n       [1.],\n       [0.],\n       [0.],\n       [0.],\n       [1.],\n       [0.],\n       [0.],\n       [0.],\n       [0.],\n       [1.]])"
     },
     "execution_count": 35,
     "metadata": {},
     "output_type": "execute_result"
    }
   ],
   "source": [
    "transformer = Binarizer(threshold=30).fit_transform(X)\n",
    "transformer\n"
   ],
   "metadata": {
    "collapsed": false,
    "pycharm": {
     "name": "#%%\n"
    }
   }
  },
  {
   "cell_type": "code",
   "execution_count": 36,
   "outputs": [
    {
     "ename": "AttributeError",
     "evalue": "'Series' object has no attribute 'value'",
     "output_type": "error",
     "traceback": [
      "\u001B[1;31m---------------------------------------------------------------------------\u001B[0m",
      "\u001B[1;31mAttributeError\u001B[0m                            Traceback (most recent call last)",
      "\u001B[1;32m<ipython-input-36-470f39aa0a6d>\u001B[0m in \u001B[0;36m<module>\u001B[1;34m\u001B[0m\n\u001B[0;32m      3\u001B[0m \u001B[1;32mfrom\u001B[0m \u001B[0msklearn\u001B[0m\u001B[1;33m.\u001B[0m\u001B[0mpreprocessing\u001B[0m \u001B[1;32mimport\u001B[0m \u001B[0mKBinsDiscretizer\u001B[0m\u001B[1;33m\u001B[0m\u001B[1;33m\u001B[0m\u001B[0m\n\u001B[0;32m      4\u001B[0m \u001B[1;33m\u001B[0m\u001B[0m\n\u001B[1;32m----> 5\u001B[1;33m \u001B[0mX\u001B[0m \u001B[1;33m=\u001B[0m \u001B[0mdata\u001B[0m\u001B[1;33m.\u001B[0m\u001B[0miloc\u001B[0m\u001B[1;33m[\u001B[0m\u001B[1;33m:\u001B[0m\u001B[1;33m,\u001B[0m\u001B[1;36m0\u001B[0m\u001B[1;33m]\u001B[0m\u001B[1;33m.\u001B[0m\u001B[0mvalue\u001B[0m\u001B[1;33m.\u001B[0m\u001B[0mreshape\u001B[0m\u001B[1;33m(\u001B[0m\u001B[1;33m-\u001B[0m\u001B[1;36m1\u001B[0m\u001B[1;33m,\u001B[0m\u001B[1;36m1\u001B[0m\u001B[1;33m)\u001B[0m\u001B[1;33m\u001B[0m\u001B[1;33m\u001B[0m\u001B[0m\n\u001B[0m\u001B[0;32m      6\u001B[0m \u001B[1;33m\u001B[0m\u001B[0m\n",
      "\u001B[1;32m~\\.conda\\envs\\bw_pinglun\\lib\\site-packages\\pandas\\core\\generic.py\u001B[0m in \u001B[0;36m__getattr__\u001B[1;34m(self, name)\u001B[0m\n\u001B[0;32m   5485\u001B[0m         ):\n\u001B[0;32m   5486\u001B[0m             \u001B[1;32mreturn\u001B[0m \u001B[0mself\u001B[0m\u001B[1;33m[\u001B[0m\u001B[0mname\u001B[0m\u001B[1;33m]\u001B[0m\u001B[1;33m\u001B[0m\u001B[1;33m\u001B[0m\u001B[0m\n\u001B[1;32m-> 5487\u001B[1;33m         \u001B[1;32mreturn\u001B[0m \u001B[0mobject\u001B[0m\u001B[1;33m.\u001B[0m\u001B[0m__getattribute__\u001B[0m\u001B[1;33m(\u001B[0m\u001B[0mself\u001B[0m\u001B[1;33m,\u001B[0m \u001B[0mname\u001B[0m\u001B[1;33m)\u001B[0m\u001B[1;33m\u001B[0m\u001B[1;33m\u001B[0m\u001B[0m\n\u001B[0m\u001B[0;32m   5488\u001B[0m \u001B[1;33m\u001B[0m\u001B[0m\n\u001B[0;32m   5489\u001B[0m     \u001B[1;32mdef\u001B[0m \u001B[0m__setattr__\u001B[0m\u001B[1;33m(\u001B[0m\u001B[0mself\u001B[0m\u001B[1;33m,\u001B[0m \u001B[0mname\u001B[0m\u001B[1;33m:\u001B[0m \u001B[0mstr\u001B[0m\u001B[1;33m,\u001B[0m \u001B[0mvalue\u001B[0m\u001B[1;33m)\u001B[0m \u001B[1;33m->\u001B[0m \u001B[1;32mNone\u001B[0m\u001B[1;33m:\u001B[0m\u001B[1;33m\u001B[0m\u001B[1;33m\u001B[0m\u001B[0m\n",
      "\u001B[1;31mAttributeError\u001B[0m: 'Series' object has no attribute 'value'"
     ]
    }
   ],
   "source": [
    "# 分箱\n",
    "\n",
    "from sklearn.preprocessing import KBinsDiscretizer\n",
    "\n",
    "X = data.iloc[:,0].value.reshape(-1,1)\n"
   ],
   "metadata": {
    "collapsed": false,
    "pycharm": {
     "name": "#%%\n"
    }
   }
  },
  {
   "cell_type": "code",
   "execution_count": 37,
   "outputs": [
    {
     "data": {
      "text/plain": "array([[22.  ],\n       [38.  ],\n       [26.  ],\n       [35.  ],\n       [35.  ],\n       [ 0.  ],\n       [54.  ],\n       [ 2.  ],\n       [27.  ],\n       [14.  ],\n       [ 4.  ],\n       [58.  ],\n       [20.  ],\n       [39.  ],\n       [14.  ],\n       [55.  ],\n       [ 2.  ],\n       [ 0.  ],\n       [31.  ],\n       [ 0.  ],\n       [35.  ],\n       [34.  ],\n       [15.  ],\n       [28.  ],\n       [ 8.  ],\n       [38.  ],\n       [ 0.  ],\n       [19.  ],\n       [ 0.  ],\n       [ 0.  ],\n       [40.  ],\n       [ 0.  ],\n       [ 0.  ],\n       [66.  ],\n       [28.  ],\n       [42.  ],\n       [ 0.  ],\n       [21.  ],\n       [18.  ],\n       [14.  ],\n       [40.  ],\n       [27.  ],\n       [ 0.  ],\n       [ 3.  ],\n       [19.  ],\n       [ 0.  ],\n       [ 0.  ],\n       [ 0.  ],\n       [ 0.  ],\n       [18.  ],\n       [ 7.  ],\n       [21.  ],\n       [49.  ],\n       [29.  ],\n       [65.  ],\n       [ 0.  ],\n       [21.  ],\n       [28.5 ],\n       [ 5.  ],\n       [11.  ],\n       [22.  ],\n       [38.  ],\n       [45.  ],\n       [ 4.  ],\n       [ 0.  ],\n       [ 0.  ],\n       [29.  ],\n       [19.  ],\n       [17.  ],\n       [26.  ],\n       [32.  ],\n       [16.  ],\n       [21.  ],\n       [26.  ],\n       [32.  ],\n       [25.  ],\n       [ 0.  ],\n       [ 0.  ],\n       [ 0.83],\n       [30.  ],\n       [22.  ],\n       [29.  ],\n       [ 0.  ],\n       [28.  ],\n       [17.  ],\n       [33.  ],\n       [16.  ],\n       [ 0.  ],\n       [23.  ],\n       [24.  ],\n       [29.  ],\n       [20.  ],\n       [46.  ],\n       [26.  ],\n       [59.  ],\n       [ 0.  ],\n       [71.  ],\n       [23.  ],\n       [34.  ],\n       [34.  ],\n       [28.  ],\n       [ 0.  ],\n       [21.  ],\n       [33.  ],\n       [37.  ],\n       [28.  ],\n       [21.  ],\n       [ 0.  ],\n       [38.  ],\n       [ 0.  ],\n       [47.  ],\n       [14.5 ],\n       [22.  ],\n       [20.  ],\n       [17.  ],\n       [21.  ],\n       [70.5 ],\n       [29.  ],\n       [24.  ],\n       [ 2.  ],\n       [21.  ],\n       [ 0.  ],\n       [32.5 ],\n       [32.5 ],\n       [54.  ],\n       [12.  ],\n       [ 0.  ],\n       [24.  ],\n       [ 0.  ],\n       [45.  ],\n       [33.  ],\n       [20.  ],\n       [47.  ],\n       [29.  ],\n       [25.  ],\n       [23.  ],\n       [19.  ],\n       [37.  ],\n       [16.  ],\n       [24.  ],\n       [ 0.  ],\n       [22.  ],\n       [24.  ],\n       [19.  ],\n       [18.  ],\n       [19.  ],\n       [27.  ],\n       [ 9.  ],\n       [36.5 ],\n       [42.  ],\n       [51.  ],\n       [22.  ],\n       [55.5 ],\n       [40.5 ],\n       [ 0.  ],\n       [51.  ],\n       [16.  ],\n       [30.  ],\n       [ 0.  ],\n       [ 0.  ],\n       [44.  ],\n       [40.  ],\n       [26.  ],\n       [17.  ],\n       [ 1.  ],\n       [ 9.  ],\n       [ 0.  ],\n       [45.  ],\n       [ 0.  ],\n       [28.  ],\n       [61.  ],\n       [ 4.  ],\n       [ 1.  ],\n       [21.  ],\n       [56.  ],\n       [18.  ],\n       [ 0.  ],\n       [50.  ],\n       [30.  ],\n       [36.  ],\n       [ 0.  ],\n       [ 0.  ],\n       [ 9.  ],\n       [ 1.  ],\n       [ 4.  ],\n       [ 0.  ],\n       [ 0.  ],\n       [45.  ],\n       [40.  ],\n       [36.  ],\n       [32.  ],\n       [19.  ],\n       [19.  ],\n       [ 3.  ],\n       [44.  ],\n       [58.  ],\n       [ 0.  ],\n       [42.  ],\n       [ 0.  ],\n       [24.  ],\n       [28.  ],\n       [ 0.  ],\n       [34.  ],\n       [45.5 ],\n       [18.  ],\n       [ 2.  ],\n       [32.  ],\n       [26.  ],\n       [16.  ],\n       [40.  ],\n       [24.  ],\n       [35.  ],\n       [22.  ],\n       [30.  ],\n       [ 0.  ],\n       [31.  ],\n       [27.  ],\n       [42.  ],\n       [32.  ],\n       [30.  ],\n       [16.  ],\n       [27.  ],\n       [51.  ],\n       [ 0.  ],\n       [38.  ],\n       [22.  ],\n       [19.  ],\n       [20.5 ],\n       [18.  ],\n       [ 0.  ],\n       [35.  ],\n       [29.  ],\n       [59.  ],\n       [ 5.  ],\n       [24.  ],\n       [ 0.  ],\n       [44.  ],\n       [ 8.  ],\n       [19.  ],\n       [33.  ],\n       [ 0.  ],\n       [ 0.  ],\n       [29.  ],\n       [22.  ],\n       [30.  ],\n       [44.  ],\n       [25.  ],\n       [24.  ],\n       [37.  ],\n       [54.  ],\n       [ 0.  ],\n       [29.  ],\n       [62.  ],\n       [30.  ],\n       [41.  ],\n       [29.  ],\n       [ 0.  ],\n       [30.  ],\n       [35.  ],\n       [50.  ],\n       [ 0.  ],\n       [ 3.  ],\n       [52.  ],\n       [40.  ],\n       [ 0.  ],\n       [36.  ],\n       [16.  ],\n       [25.  ],\n       [58.  ],\n       [35.  ],\n       [ 0.  ],\n       [25.  ],\n       [41.  ],\n       [37.  ],\n       [ 0.  ],\n       [63.  ],\n       [45.  ],\n       [ 0.  ],\n       [ 7.  ],\n       [35.  ],\n       [65.  ],\n       [28.  ],\n       [16.  ],\n       [19.  ],\n       [ 0.  ],\n       [33.  ],\n       [30.  ],\n       [22.  ],\n       [42.  ],\n       [22.  ],\n       [26.  ],\n       [19.  ],\n       [36.  ],\n       [24.  ],\n       [24.  ],\n       [ 0.  ],\n       [23.5 ],\n       [ 2.  ],\n       [ 0.  ],\n       [50.  ],\n       [ 0.  ],\n       [ 0.  ],\n       [19.  ],\n       [ 0.  ],\n       [ 0.  ],\n       [ 0.92],\n       [ 0.  ],\n       [17.  ],\n       [30.  ],\n       [30.  ],\n       [24.  ],\n       [18.  ],\n       [26.  ],\n       [28.  ],\n       [43.  ],\n       [26.  ],\n       [24.  ],\n       [54.  ],\n       [31.  ],\n       [40.  ],\n       [22.  ],\n       [27.  ],\n       [30.  ],\n       [22.  ],\n       [ 0.  ],\n       [36.  ],\n       [61.  ],\n       [36.  ],\n       [31.  ],\n       [16.  ],\n       [ 0.  ],\n       [45.5 ],\n       [38.  ],\n       [16.  ],\n       [ 0.  ],\n       [ 0.  ],\n       [29.  ],\n       [41.  ],\n       [45.  ],\n       [45.  ],\n       [ 2.  ],\n       [24.  ],\n       [28.  ],\n       [25.  ],\n       [36.  ],\n       [24.  ],\n       [40.  ],\n       [ 0.  ],\n       [ 3.  ],\n       [42.  ],\n       [23.  ],\n       [ 0.  ],\n       [15.  ],\n       [25.  ],\n       [ 0.  ],\n       [28.  ],\n       [22.  ],\n       [38.  ],\n       [ 0.  ],\n       [ 0.  ],\n       [40.  ],\n       [29.  ],\n       [45.  ],\n       [35.  ],\n       [ 0.  ],\n       [30.  ],\n       [60.  ],\n       [ 0.  ],\n       [ 0.  ],\n       [24.  ],\n       [25.  ],\n       [18.  ],\n       [19.  ],\n       [22.  ],\n       [ 3.  ],\n       [ 0.  ],\n       [22.  ],\n       [27.  ],\n       [20.  ],\n       [19.  ],\n       [42.  ],\n       [ 1.  ],\n       [32.  ],\n       [35.  ],\n       [ 0.  ],\n       [18.  ],\n       [ 1.  ],\n       [36.  ],\n       [ 0.  ],\n       [17.  ],\n       [36.  ],\n       [21.  ],\n       [28.  ],\n       [23.  ],\n       [24.  ],\n       [22.  ],\n       [31.  ],\n       [46.  ],\n       [23.  ],\n       [28.  ],\n       [39.  ],\n       [26.  ],\n       [21.  ],\n       [28.  ],\n       [20.  ],\n       [34.  ],\n       [51.  ],\n       [ 3.  ],\n       [21.  ],\n       [ 0.  ],\n       [ 0.  ],\n       [ 0.  ],\n       [33.  ],\n       [ 0.  ],\n       [44.  ],\n       [ 0.  ],\n       [34.  ],\n       [18.  ],\n       [30.  ],\n       [10.  ],\n       [ 0.  ],\n       [21.  ],\n       [29.  ],\n       [28.  ],\n       [18.  ],\n       [ 0.  ],\n       [28.  ],\n       [19.  ],\n       [ 0.  ],\n       [32.  ],\n       [28.  ],\n       [ 0.  ],\n       [42.  ],\n       [17.  ],\n       [50.  ],\n       [14.  ],\n       [21.  ],\n       [24.  ],\n       [64.  ],\n       [31.  ],\n       [45.  ],\n       [20.  ],\n       [25.  ],\n       [28.  ],\n       [ 0.  ],\n       [ 4.  ],\n       [13.  ],\n       [34.  ],\n       [ 5.  ],\n       [52.  ],\n       [36.  ],\n       [ 0.  ],\n       [30.  ],\n       [49.  ],\n       [ 0.  ],\n       [29.  ],\n       [65.  ],\n       [ 0.  ],\n       [50.  ],\n       [ 0.  ],\n       [48.  ],\n       [34.  ],\n       [47.  ],\n       [48.  ],\n       [ 0.  ],\n       [38.  ],\n       [ 0.  ],\n       [56.  ],\n       [ 0.  ],\n       [ 0.75],\n       [ 0.  ],\n       [38.  ],\n       [33.  ],\n       [23.  ],\n       [22.  ],\n       [ 0.  ],\n       [34.  ],\n       [29.  ],\n       [22.  ],\n       [ 2.  ],\n       [ 9.  ],\n       [ 0.  ],\n       [50.  ],\n       [63.  ],\n       [25.  ],\n       [ 0.  ],\n       [35.  ],\n       [58.  ],\n       [30.  ],\n       [ 9.  ],\n       [ 0.  ],\n       [21.  ],\n       [55.  ],\n       [71.  ],\n       [21.  ],\n       [ 0.  ],\n       [54.  ],\n       [ 0.  ],\n       [25.  ],\n       [24.  ],\n       [17.  ],\n       [21.  ],\n       [ 0.  ],\n       [37.  ],\n       [16.  ],\n       [18.  ],\n       [33.  ],\n       [ 0.  ],\n       [28.  ],\n       [26.  ],\n       [29.  ],\n       [ 0.  ],\n       [36.  ],\n       [54.  ],\n       [24.  ],\n       [47.  ],\n       [34.  ],\n       [ 0.  ],\n       [36.  ],\n       [32.  ],\n       [30.  ],\n       [22.  ],\n       [ 0.  ],\n       [44.  ],\n       [ 0.  ],\n       [40.5 ],\n       [50.  ],\n       [ 0.  ],\n       [39.  ],\n       [23.  ],\n       [ 2.  ],\n       [ 0.  ],\n       [17.  ],\n       [ 0.  ],\n       [30.  ],\n       [ 7.  ],\n       [45.  ],\n       [30.  ],\n       [ 0.  ],\n       [22.  ],\n       [36.  ],\n       [ 9.  ],\n       [11.  ],\n       [32.  ],\n       [50.  ],\n       [64.  ],\n       [19.  ],\n       [ 0.  ],\n       [33.  ],\n       [ 8.  ],\n       [17.  ],\n       [27.  ],\n       [ 0.  ],\n       [22.  ],\n       [22.  ],\n       [62.  ],\n       [48.  ],\n       [ 0.  ],\n       [39.  ],\n       [36.  ],\n       [ 0.  ],\n       [40.  ],\n       [28.  ],\n       [ 0.  ],\n       [ 0.  ],\n       [24.  ],\n       [19.  ],\n       [29.  ],\n       [ 0.  ],\n       [32.  ],\n       [62.  ],\n       [53.  ],\n       [36.  ],\n       [ 0.  ],\n       [16.  ],\n       [19.  ],\n       [34.  ],\n       [39.  ],\n       [ 0.  ],\n       [32.  ],\n       [25.  ],\n       [39.  ],\n       [54.  ],\n       [36.  ],\n       [ 0.  ],\n       [18.  ],\n       [47.  ],\n       [60.  ],\n       [22.  ],\n       [ 0.  ],\n       [35.  ],\n       [52.  ],\n       [47.  ],\n       [ 0.  ],\n       [37.  ],\n       [36.  ],\n       [ 0.  ],\n       [49.  ],\n       [ 0.  ],\n       [49.  ],\n       [24.  ],\n       [ 0.  ],\n       [ 0.  ],\n       [44.  ],\n       [35.  ],\n       [36.  ],\n       [30.  ],\n       [27.  ],\n       [22.  ],\n       [40.  ],\n       [39.  ],\n       [ 0.  ],\n       [ 0.  ],\n       [ 0.  ],\n       [35.  ],\n       [24.  ],\n       [34.  ],\n       [26.  ],\n       [ 4.  ],\n       [26.  ],\n       [27.  ],\n       [42.  ],\n       [20.  ],\n       [21.  ],\n       [21.  ],\n       [61.  ],\n       [57.  ],\n       [21.  ],\n       [26.  ],\n       [ 0.  ],\n       [80.  ],\n       [51.  ],\n       [32.  ],\n       [ 0.  ],\n       [ 9.  ],\n       [28.  ],\n       [32.  ],\n       [31.  ],\n       [41.  ],\n       [ 0.  ],\n       [20.  ],\n       [24.  ],\n       [ 2.  ],\n       [ 0.  ],\n       [ 0.75],\n       [48.  ],\n       [19.  ],\n       [56.  ],\n       [ 0.  ],\n       [23.  ],\n       [ 0.  ],\n       [18.  ],\n       [21.  ],\n       [ 0.  ],\n       [18.  ],\n       [24.  ],\n       [ 0.  ],\n       [32.  ],\n       [23.  ],\n       [58.  ],\n       [50.  ],\n       [40.  ],\n       [47.  ],\n       [36.  ],\n       [20.  ],\n       [32.  ],\n       [25.  ],\n       [ 0.  ],\n       [43.  ],\n       [ 0.  ],\n       [40.  ],\n       [31.  ],\n       [70.  ],\n       [31.  ],\n       [ 0.  ],\n       [18.  ],\n       [24.5 ],\n       [18.  ],\n       [43.  ],\n       [36.  ],\n       [ 0.  ],\n       [27.  ],\n       [20.  ],\n       [14.  ],\n       [60.  ],\n       [25.  ],\n       [14.  ],\n       [19.  ],\n       [18.  ],\n       [15.  ],\n       [31.  ],\n       [ 4.  ],\n       [ 0.  ],\n       [25.  ],\n       [60.  ],\n       [52.  ],\n       [44.  ],\n       [ 0.  ],\n       [49.  ],\n       [42.  ],\n       [18.  ],\n       [35.  ],\n       [18.  ],\n       [25.  ],\n       [26.  ],\n       [39.  ],\n       [45.  ],\n       [42.  ],\n       [22.  ],\n       [ 0.  ],\n       [24.  ],\n       [ 0.  ],\n       [48.  ],\n       [29.  ],\n       [52.  ],\n       [19.  ],\n       [38.  ],\n       [27.  ],\n       [ 0.  ],\n       [33.  ],\n       [ 6.  ],\n       [17.  ],\n       [34.  ],\n       [50.  ],\n       [27.  ],\n       [20.  ],\n       [30.  ],\n       [ 0.  ],\n       [25.  ],\n       [25.  ],\n       [29.  ],\n       [11.  ],\n       [ 0.  ],\n       [23.  ],\n       [23.  ],\n       [28.5 ],\n       [48.  ],\n       [35.  ],\n       [ 0.  ],\n       [ 0.  ],\n       [ 0.  ],\n       [36.  ],\n       [21.  ],\n       [24.  ],\n       [31.  ],\n       [70.  ],\n       [16.  ],\n       [30.  ],\n       [19.  ],\n       [31.  ],\n       [ 4.  ],\n       [ 6.  ],\n       [33.  ],\n       [23.  ],\n       [48.  ],\n       [ 0.67],\n       [28.  ],\n       [18.  ],\n       [34.  ],\n       [33.  ],\n       [ 0.  ],\n       [41.  ],\n       [20.  ],\n       [36.  ],\n       [16.  ],\n       [51.  ],\n       [ 0.  ],\n       [30.5 ],\n       [ 0.  ],\n       [32.  ],\n       [24.  ],\n       [48.  ],\n       [57.  ],\n       [ 0.  ],\n       [54.  ],\n       [18.  ],\n       [ 0.  ],\n       [ 5.  ],\n       [ 0.  ],\n       [43.  ],\n       [13.  ],\n       [17.  ],\n       [29.  ],\n       [ 0.  ],\n       [25.  ],\n       [25.  ],\n       [18.  ],\n       [ 8.  ],\n       [ 1.  ],\n       [46.  ],\n       [ 0.  ],\n       [16.  ],\n       [ 0.  ],\n       [ 0.  ],\n       [25.  ],\n       [39.  ],\n       [49.  ],\n       [31.  ],\n       [30.  ],\n       [30.  ],\n       [34.  ],\n       [31.  ],\n       [11.  ],\n       [ 0.42],\n       [27.  ],\n       [31.  ],\n       [39.  ],\n       [18.  ],\n       [39.  ],\n       [33.  ],\n       [26.  ],\n       [39.  ],\n       [35.  ],\n       [ 6.  ],\n       [30.5 ],\n       [ 0.  ],\n       [23.  ],\n       [31.  ],\n       [43.  ],\n       [10.  ],\n       [52.  ],\n       [27.  ],\n       [38.  ],\n       [27.  ],\n       [ 2.  ],\n       [ 0.  ],\n       [ 0.  ],\n       [ 1.  ],\n       [ 0.  ],\n       [62.  ],\n       [15.  ],\n       [ 0.83],\n       [ 0.  ],\n       [23.  ],\n       [18.  ],\n       [39.  ],\n       [21.  ],\n       [ 0.  ],\n       [32.  ],\n       [ 0.  ],\n       [20.  ],\n       [16.  ],\n       [30.  ],\n       [34.5 ],\n       [17.  ],\n       [42.  ],\n       [ 0.  ],\n       [35.  ],\n       [28.  ],\n       [ 0.  ],\n       [ 4.  ],\n       [74.  ],\n       [ 9.  ],\n       [16.  ],\n       [44.  ],\n       [18.  ],\n       [45.  ],\n       [51.  ],\n       [24.  ],\n       [ 0.  ],\n       [41.  ],\n       [21.  ],\n       [48.  ],\n       [ 0.  ],\n       [24.  ],\n       [42.  ],\n       [27.  ],\n       [31.  ],\n       [ 0.  ],\n       [ 4.  ],\n       [26.  ],\n       [47.  ],\n       [33.  ],\n       [47.  ],\n       [28.  ],\n       [15.  ],\n       [20.  ],\n       [19.  ],\n       [ 0.  ],\n       [56.  ],\n       [25.  ],\n       [33.  ],\n       [22.  ],\n       [28.  ],\n       [25.  ],\n       [39.  ],\n       [27.  ],\n       [19.  ],\n       [ 0.  ],\n       [26.  ],\n       [32.  ]])"
     },
     "execution_count": 37,
     "metadata": {},
     "output_type": "execute_result"
    }
   ],
   "source": [
    "X"
   ],
   "metadata": {
    "collapsed": false,
    "pycharm": {
     "name": "#%%\n"
    }
   }
  },
  {
   "cell_type": "code",
   "execution_count": 40,
   "outputs": [
    {
     "data": {
      "text/plain": "array([[0.],\n       [1.],\n       [0.],\n       [1.],\n       [1.],\n       [0.],\n       [2.],\n       [0.],\n       [1.],\n       [0.],\n       [0.],\n       [2.],\n       [0.],\n       [1.],\n       [0.],\n       [2.],\n       [0.],\n       [0.],\n       [1.],\n       [0.]])"
     },
     "execution_count": 40,
     "metadata": {},
     "output_type": "execute_result"
    }
   ],
   "source": [
    "est = KBinsDiscretizer(n_bins=3, encode=\"ordinal\", strategy='uniform')\n",
    "est.fit_transform(X)[:20]\n",
    "\n"
   ],
   "metadata": {
    "collapsed": false,
    "pycharm": {
     "name": "#%%\n"
    }
   }
  },
  {
   "cell_type": "code",
   "execution_count": null,
   "outputs": [],
   "source": [],
   "metadata": {
    "collapsed": false,
    "pycharm": {
     "name": "#%%\n"
    }
   }
  }
 ],
 "metadata": {
  "kernelspec": {
   "display_name": "Python 3",
   "language": "python",
   "name": "python3"
  },
  "language_info": {
   "codemirror_mode": {
    "name": "ipython",
    "version": 2
   },
   "file_extension": ".py",
   "mimetype": "text/x-python",
   "name": "python",
   "nbconvert_exporter": "python",
   "pygments_lexer": "ipython2",
   "version": "2.7.6"
  }
 },
 "nbformat": 4,
 "nbformat_minor": 0
}